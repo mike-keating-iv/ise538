{
 "cells": [
  {
   "cell_type": "markdown",
   "metadata": {},
   "source": [
    "EM 538-001: Practical Machine Learning for Enginering Analystics (Spring 2025)  \n",
    "Instructor: Fred Livingston (fjliving@ncsu.edu) "
   ]
  },
  {
   "cell_type": "markdown",
   "metadata": {},
   "source": [
    "### Load and Prepare Datasets"
   ]
  },
  {
   "cell_type": "code",
   "execution_count": 1,
   "metadata": {},
   "outputs": [],
   "source": [
    "import numpy as np\n",
    "import pandas as pd "
   ]
  },
  {
   "cell_type": "code",
   "execution_count": null,
   "metadata": {},
   "outputs": [],
   "source": [
    "blobs_df = pd.read_csv('kmeans_blobs.csv')\n",
    "colnames = list(blobs_df.columns[1:-1])\n",
    "blobs_df.head()"
   ]
  },
  {
   "cell_type": "code",
   "execution_count": null,
   "metadata": {},
   "outputs": [],
   "source": [
    "import seaborn as sns\n",
    "sns.scatterplot(data=blobs_df, y=\"x\", x=\"y\", hue='cluster')"
   ]
  },
  {
   "cell_type": "code",
   "execution_count": 4,
   "metadata": {},
   "outputs": [],
   "source": [
    "class Kmeans: \n",
    "    def __init__(self, k): \n",
    "        self.k = k\n",
    "\n",
    "    def initiate_centroids(self, dset): \n",
    "        '''\n",
    "        Select k data points as centroids\n",
    "        k: number of centroids\n",
    "        dset: pandas dataframe\n",
    "        '''\n",
    "        centroids = dset.sample(self.k)\n",
    "        return centroids\n",
    "    \n",
    "    def rsserr(self, a,b):\n",
    "        '''\n",
    "        Calculate the root of sum of squared errors. \n",
    "        a and b are numpy arrays\n",
    "        '''\n",
    "        return np.square(np.sum((a-b)**2))\n",
    "\n",
    "    def centroid_assignation(self, dset, centroids):\n",
    "        '''\n",
    "        Given a dataframe `dset` and a set of `centroids`, we assign each\n",
    "        data point in `dset` to a centroid. \n",
    "        - dset - pandas dataframe with observations\n",
    "        - centroids - pa das dataframe with centroids\n",
    "        '''\n",
    "        self.k = centroids.shape[0]\n",
    "        n = dset.shape[0]\n",
    "        assignation = []\n",
    "        assign_errors = []\n",
    "\n",
    "        for obs in range(n):\n",
    "            # Estimate error\n",
    "            all_errors = np.array([])\n",
    "            for centroid in range(self.k):\n",
    "                err = self.rsserr(centroids.iloc[centroid, :], dset.iloc[obs,:])\n",
    "                all_errors = np.append(all_errors, err)\n",
    "\n",
    "            # Get the nearest centroid and the error\n",
    "            nearest_centroid =  np.where(all_errors==np.amin(all_errors))[0].tolist()[0]\n",
    "            nearest_centroid_error = np.amin(all_errors)\n",
    "\n",
    "            # Add values to corresponding lists\n",
    "            assignation.append(nearest_centroid)\n",
    "            assign_errors.append(nearest_centroid_error) \n",
    "        return assignation, assign_errors"
   ]
  },
  {
   "cell_type": "markdown",
   "metadata": {},
   "source": [
    "### Steps 1 and 2 - Define k and initiate the centroids"
   ]
  },
  {
   "cell_type": "code",
   "execution_count": null,
   "metadata": {},
   "outputs": [],
   "source": [
    "#Example usage\n",
    "kmeans_cluster = Kmeans(3)\n",
    "centroids = kmeans_cluster.initiate_centroids(blobs_df)\n",
    "centroids"
   ]
  },
  {
   "cell_type": "markdown",
   "metadata": {},
   "source": [
    "### Step 3 - Calculate distance\n",
    "### Step 4 - Assign centroids"
   ]
  },
  {
   "cell_type": "code",
   "execution_count": null,
   "metadata": {},
   "outputs": [],
   "source": [
    "blobs_df['centroid'], blobs_df['error'] = kmeans_cluster.centroid_assignation(blobs_df, centroids)\n",
    "blobs_df.head()"
   ]
  },
  {
   "cell_type": "code",
   "execution_count": null,
   "metadata": {},
   "outputs": [],
   "source": [
    "sns.scatterplot(data=blobs_df, y=\"x\", x=\"y\")\n",
    "sns.scatterplot(data=centroids, y=\"x\", x=\"y\", hue='cluster')"
   ]
  },
  {
   "cell_type": "code",
   "execution_count": null,
   "metadata": {},
   "outputs": [],
   "source": [
    "print(\"The total error is {0:.2f}\".format(blobs_df['error'].sum()))\n"
   ]
  },
  {
   "cell_type": "markdown",
   "metadata": {},
   "source": [
    "### Step 5 - Update centroid location"
   ]
  },
  {
   "cell_type": "code",
   "execution_count": null,
   "metadata": {},
   "outputs": [],
   "source": [
    "centroids = blobs_df.groupby('centroid').agg('mean').loc[:, colnames].reset_index(drop = True)\n",
    "centroids"
   ]
  },
  {
   "cell_type": "code",
   "execution_count": null,
   "metadata": {},
   "outputs": [],
   "source": [
    "blobs_df['centroid'], blobs_df['error'] = kmeans_cluster.centroid_assignation(blobs_df, centroids)\n",
    "blobs_df.head()"
   ]
  }
 ],
 "metadata": {
  "kernelspec": {
   "display_name": "pyml",
   "language": "python",
   "name": "python3"
  },
  "language_info": {
   "codemirror_mode": {
    "name": "ipython",
    "version": 3
   },
   "file_extension": ".py",
   "mimetype": "text/x-python",
   "name": "python",
   "nbconvert_exporter": "python",
   "pygments_lexer": "ipython3",
   "version": "3.11.9"
  },
  "toc-autonumbering": false
 },
 "nbformat": 4,
 "nbformat_minor": 4
}
