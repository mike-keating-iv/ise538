{
  "cells": [
    {
      "cell_type": "markdown",
      "id": "8a69fb12",
      "metadata": {
        "id": "8a69fb12"
      },
      "source": [
        "EM 538: Practical Machine Learning for Enginnering Analytics (Spring 2025)  \n",
        "Instructor: Fred Livingston (fjliving@ncsu.edu)  \n",
        "Student: Mike Keating\n"
      ]
    },
    {
      "cell_type": "markdown",
      "id": "d71bce70-9dc3-448b-9f9a-8896e83b6d09",
      "metadata": {
        "id": "d71bce70-9dc3-448b-9f9a-8896e83b6d09"
      },
      "source": [
        "## Drug Classification Modeling\n"
      ]
    },
    {
      "cell_type": "code",
      "execution_count": 3,
      "id": "a16b53e7",
      "metadata": {
        "id": "a16b53e7"
      },
      "outputs": [],
      "source": [
        "import pandas as pd\n",
        "import torch\n",
        "from sklearn import preprocessing\n",
        "from torch.utils.data import Dataset, DataLoader\n",
        "import torch.nn.functional as F"
      ]
    },
    {
      "cell_type": "code",
      "execution_count": 4,
      "id": "139648db",
      "metadata": {
        "id": "139648db",
        "outputId": "93c09572-5926-4e00-d24c-6f035f7c4b2f",
        "colab": {
          "base_uri": "https://localhost:8080/",
          "height": 206
        }
      },
      "outputs": [
        {
          "output_type": "execute_result",
          "data": {
            "text/plain": [
              "   Age Sex      BP Cholesterol  Na_to_K   Drug\n",
              "0   23   F    HIGH        HIGH   25.355  DrugY\n",
              "1   47   M     LOW        HIGH   13.093  drugC\n",
              "2   47   M     LOW        HIGH   10.114  drugC\n",
              "3   28   F  NORMAL        HIGH    7.798  drugX\n",
              "4   61   F     LOW        HIGH   18.043  DrugY"
            ],
            "text/html": [
              "\n",
              "  <div id=\"df-a21bcb3b-118b-4d29-a7e9-45008672e461\" class=\"colab-df-container\">\n",
              "    <div>\n",
              "<style scoped>\n",
              "    .dataframe tbody tr th:only-of-type {\n",
              "        vertical-align: middle;\n",
              "    }\n",
              "\n",
              "    .dataframe tbody tr th {\n",
              "        vertical-align: top;\n",
              "    }\n",
              "\n",
              "    .dataframe thead th {\n",
              "        text-align: right;\n",
              "    }\n",
              "</style>\n",
              "<table border=\"1\" class=\"dataframe\">\n",
              "  <thead>\n",
              "    <tr style=\"text-align: right;\">\n",
              "      <th></th>\n",
              "      <th>Age</th>\n",
              "      <th>Sex</th>\n",
              "      <th>BP</th>\n",
              "      <th>Cholesterol</th>\n",
              "      <th>Na_to_K</th>\n",
              "      <th>Drug</th>\n",
              "    </tr>\n",
              "  </thead>\n",
              "  <tbody>\n",
              "    <tr>\n",
              "      <th>0</th>\n",
              "      <td>23</td>\n",
              "      <td>F</td>\n",
              "      <td>HIGH</td>\n",
              "      <td>HIGH</td>\n",
              "      <td>25.355</td>\n",
              "      <td>DrugY</td>\n",
              "    </tr>\n",
              "    <tr>\n",
              "      <th>1</th>\n",
              "      <td>47</td>\n",
              "      <td>M</td>\n",
              "      <td>LOW</td>\n",
              "      <td>HIGH</td>\n",
              "      <td>13.093</td>\n",
              "      <td>drugC</td>\n",
              "    </tr>\n",
              "    <tr>\n",
              "      <th>2</th>\n",
              "      <td>47</td>\n",
              "      <td>M</td>\n",
              "      <td>LOW</td>\n",
              "      <td>HIGH</td>\n",
              "      <td>10.114</td>\n",
              "      <td>drugC</td>\n",
              "    </tr>\n",
              "    <tr>\n",
              "      <th>3</th>\n",
              "      <td>28</td>\n",
              "      <td>F</td>\n",
              "      <td>NORMAL</td>\n",
              "      <td>HIGH</td>\n",
              "      <td>7.798</td>\n",
              "      <td>drugX</td>\n",
              "    </tr>\n",
              "    <tr>\n",
              "      <th>4</th>\n",
              "      <td>61</td>\n",
              "      <td>F</td>\n",
              "      <td>LOW</td>\n",
              "      <td>HIGH</td>\n",
              "      <td>18.043</td>\n",
              "      <td>DrugY</td>\n",
              "    </tr>\n",
              "  </tbody>\n",
              "</table>\n",
              "</div>\n",
              "    <div class=\"colab-df-buttons\">\n",
              "\n",
              "  <div class=\"colab-df-container\">\n",
              "    <button class=\"colab-df-convert\" onclick=\"convertToInteractive('df-a21bcb3b-118b-4d29-a7e9-45008672e461')\"\n",
              "            title=\"Convert this dataframe to an interactive table.\"\n",
              "            style=\"display:none;\">\n",
              "\n",
              "  <svg xmlns=\"http://www.w3.org/2000/svg\" height=\"24px\" viewBox=\"0 -960 960 960\">\n",
              "    <path d=\"M120-120v-720h720v720H120Zm60-500h600v-160H180v160Zm220 220h160v-160H400v160Zm0 220h160v-160H400v160ZM180-400h160v-160H180v160Zm440 0h160v-160H620v160ZM180-180h160v-160H180v160Zm440 0h160v-160H620v160Z\"/>\n",
              "  </svg>\n",
              "    </button>\n",
              "\n",
              "  <style>\n",
              "    .colab-df-container {\n",
              "      display:flex;\n",
              "      gap: 12px;\n",
              "    }\n",
              "\n",
              "    .colab-df-convert {\n",
              "      background-color: #E8F0FE;\n",
              "      border: none;\n",
              "      border-radius: 50%;\n",
              "      cursor: pointer;\n",
              "      display: none;\n",
              "      fill: #1967D2;\n",
              "      height: 32px;\n",
              "      padding: 0 0 0 0;\n",
              "      width: 32px;\n",
              "    }\n",
              "\n",
              "    .colab-df-convert:hover {\n",
              "      background-color: #E2EBFA;\n",
              "      box-shadow: 0px 1px 2px rgba(60, 64, 67, 0.3), 0px 1px 3px 1px rgba(60, 64, 67, 0.15);\n",
              "      fill: #174EA6;\n",
              "    }\n",
              "\n",
              "    .colab-df-buttons div {\n",
              "      margin-bottom: 4px;\n",
              "    }\n",
              "\n",
              "    [theme=dark] .colab-df-convert {\n",
              "      background-color: #3B4455;\n",
              "      fill: #D2E3FC;\n",
              "    }\n",
              "\n",
              "    [theme=dark] .colab-df-convert:hover {\n",
              "      background-color: #434B5C;\n",
              "      box-shadow: 0px 1px 3px 1px rgba(0, 0, 0, 0.15);\n",
              "      filter: drop-shadow(0px 1px 2px rgba(0, 0, 0, 0.3));\n",
              "      fill: #FFFFFF;\n",
              "    }\n",
              "  </style>\n",
              "\n",
              "    <script>\n",
              "      const buttonEl =\n",
              "        document.querySelector('#df-a21bcb3b-118b-4d29-a7e9-45008672e461 button.colab-df-convert');\n",
              "      buttonEl.style.display =\n",
              "        google.colab.kernel.accessAllowed ? 'block' : 'none';\n",
              "\n",
              "      async function convertToInteractive(key) {\n",
              "        const element = document.querySelector('#df-a21bcb3b-118b-4d29-a7e9-45008672e461');\n",
              "        const dataTable =\n",
              "          await google.colab.kernel.invokeFunction('convertToInteractive',\n",
              "                                                    [key], {});\n",
              "        if (!dataTable) return;\n",
              "\n",
              "        const docLinkHtml = 'Like what you see? Visit the ' +\n",
              "          '<a target=\"_blank\" href=https://colab.research.google.com/notebooks/data_table.ipynb>data table notebook</a>'\n",
              "          + ' to learn more about interactive tables.';\n",
              "        element.innerHTML = '';\n",
              "        dataTable['output_type'] = 'display_data';\n",
              "        await google.colab.output.renderOutput(dataTable, element);\n",
              "        const docLink = document.createElement('div');\n",
              "        docLink.innerHTML = docLinkHtml;\n",
              "        element.appendChild(docLink);\n",
              "      }\n",
              "    </script>\n",
              "  </div>\n",
              "\n",
              "\n",
              "    <div id=\"df-84db2584-953b-4db7-8350-e0433cb0f850\">\n",
              "      <button class=\"colab-df-quickchart\" onclick=\"quickchart('df-84db2584-953b-4db7-8350-e0433cb0f850')\"\n",
              "                title=\"Suggest charts\"\n",
              "                style=\"display:none;\">\n",
              "\n",
              "<svg xmlns=\"http://www.w3.org/2000/svg\" height=\"24px\"viewBox=\"0 0 24 24\"\n",
              "     width=\"24px\">\n",
              "    <g>\n",
              "        <path d=\"M19 3H5c-1.1 0-2 .9-2 2v14c0 1.1.9 2 2 2h14c1.1 0 2-.9 2-2V5c0-1.1-.9-2-2-2zM9 17H7v-7h2v7zm4 0h-2V7h2v10zm4 0h-2v-4h2v4z\"/>\n",
              "    </g>\n",
              "</svg>\n",
              "      </button>\n",
              "\n",
              "<style>\n",
              "  .colab-df-quickchart {\n",
              "      --bg-color: #E8F0FE;\n",
              "      --fill-color: #1967D2;\n",
              "      --hover-bg-color: #E2EBFA;\n",
              "      --hover-fill-color: #174EA6;\n",
              "      --disabled-fill-color: #AAA;\n",
              "      --disabled-bg-color: #DDD;\n",
              "  }\n",
              "\n",
              "  [theme=dark] .colab-df-quickchart {\n",
              "      --bg-color: #3B4455;\n",
              "      --fill-color: #D2E3FC;\n",
              "      --hover-bg-color: #434B5C;\n",
              "      --hover-fill-color: #FFFFFF;\n",
              "      --disabled-bg-color: #3B4455;\n",
              "      --disabled-fill-color: #666;\n",
              "  }\n",
              "\n",
              "  .colab-df-quickchart {\n",
              "    background-color: var(--bg-color);\n",
              "    border: none;\n",
              "    border-radius: 50%;\n",
              "    cursor: pointer;\n",
              "    display: none;\n",
              "    fill: var(--fill-color);\n",
              "    height: 32px;\n",
              "    padding: 0;\n",
              "    width: 32px;\n",
              "  }\n",
              "\n",
              "  .colab-df-quickchart:hover {\n",
              "    background-color: var(--hover-bg-color);\n",
              "    box-shadow: 0 1px 2px rgba(60, 64, 67, 0.3), 0 1px 3px 1px rgba(60, 64, 67, 0.15);\n",
              "    fill: var(--button-hover-fill-color);\n",
              "  }\n",
              "\n",
              "  .colab-df-quickchart-complete:disabled,\n",
              "  .colab-df-quickchart-complete:disabled:hover {\n",
              "    background-color: var(--disabled-bg-color);\n",
              "    fill: var(--disabled-fill-color);\n",
              "    box-shadow: none;\n",
              "  }\n",
              "\n",
              "  .colab-df-spinner {\n",
              "    border: 2px solid var(--fill-color);\n",
              "    border-color: transparent;\n",
              "    border-bottom-color: var(--fill-color);\n",
              "    animation:\n",
              "      spin 1s steps(1) infinite;\n",
              "  }\n",
              "\n",
              "  @keyframes spin {\n",
              "    0% {\n",
              "      border-color: transparent;\n",
              "      border-bottom-color: var(--fill-color);\n",
              "      border-left-color: var(--fill-color);\n",
              "    }\n",
              "    20% {\n",
              "      border-color: transparent;\n",
              "      border-left-color: var(--fill-color);\n",
              "      border-top-color: var(--fill-color);\n",
              "    }\n",
              "    30% {\n",
              "      border-color: transparent;\n",
              "      border-left-color: var(--fill-color);\n",
              "      border-top-color: var(--fill-color);\n",
              "      border-right-color: var(--fill-color);\n",
              "    }\n",
              "    40% {\n",
              "      border-color: transparent;\n",
              "      border-right-color: var(--fill-color);\n",
              "      border-top-color: var(--fill-color);\n",
              "    }\n",
              "    60% {\n",
              "      border-color: transparent;\n",
              "      border-right-color: var(--fill-color);\n",
              "    }\n",
              "    80% {\n",
              "      border-color: transparent;\n",
              "      border-right-color: var(--fill-color);\n",
              "      border-bottom-color: var(--fill-color);\n",
              "    }\n",
              "    90% {\n",
              "      border-color: transparent;\n",
              "      border-bottom-color: var(--fill-color);\n",
              "    }\n",
              "  }\n",
              "</style>\n",
              "\n",
              "      <script>\n",
              "        async function quickchart(key) {\n",
              "          const quickchartButtonEl =\n",
              "            document.querySelector('#' + key + ' button');\n",
              "          quickchartButtonEl.disabled = true;  // To prevent multiple clicks.\n",
              "          quickchartButtonEl.classList.add('colab-df-spinner');\n",
              "          try {\n",
              "            const charts = await google.colab.kernel.invokeFunction(\n",
              "                'suggestCharts', [key], {});\n",
              "          } catch (error) {\n",
              "            console.error('Error during call to suggestCharts:', error);\n",
              "          }\n",
              "          quickchartButtonEl.classList.remove('colab-df-spinner');\n",
              "          quickchartButtonEl.classList.add('colab-df-quickchart-complete');\n",
              "        }\n",
              "        (() => {\n",
              "          let quickchartButtonEl =\n",
              "            document.querySelector('#df-84db2584-953b-4db7-8350-e0433cb0f850 button');\n",
              "          quickchartButtonEl.style.display =\n",
              "            google.colab.kernel.accessAllowed ? 'block' : 'none';\n",
              "        })();\n",
              "      </script>\n",
              "    </div>\n",
              "\n",
              "    </div>\n",
              "  </div>\n"
            ],
            "application/vnd.google.colaboratory.intrinsic+json": {
              "type": "dataframe",
              "variable_name": "df",
              "summary": "{\n  \"name\": \"df\",\n  \"rows\": 200,\n  \"fields\": [\n    {\n      \"column\": \"Age\",\n      \"properties\": {\n        \"dtype\": \"number\",\n        \"std\": 16,\n        \"min\": 15,\n        \"max\": 74,\n        \"num_unique_values\": 57,\n        \"samples\": [\n          23,\n          49,\n          37\n        ],\n        \"semantic_type\": \"\",\n        \"description\": \"\"\n      }\n    },\n    {\n      \"column\": \"Sex\",\n      \"properties\": {\n        \"dtype\": \"category\",\n        \"num_unique_values\": 2,\n        \"samples\": [\n          \"M\",\n          \"F\"\n        ],\n        \"semantic_type\": \"\",\n        \"description\": \"\"\n      }\n    },\n    {\n      \"column\": \"BP\",\n      \"properties\": {\n        \"dtype\": \"category\",\n        \"num_unique_values\": 3,\n        \"samples\": [\n          \"HIGH\",\n          \"LOW\"\n        ],\n        \"semantic_type\": \"\",\n        \"description\": \"\"\n      }\n    },\n    {\n      \"column\": \"Cholesterol\",\n      \"properties\": {\n        \"dtype\": \"category\",\n        \"num_unique_values\": 2,\n        \"samples\": [\n          \"NORMAL\",\n          \"HIGH\"\n        ],\n        \"semantic_type\": \"\",\n        \"description\": \"\"\n      }\n    },\n    {\n      \"column\": \"Na_to_K\",\n      \"properties\": {\n        \"dtype\": \"number\",\n        \"std\": 7.223955528459517,\n        \"min\": 6.269,\n        \"max\": 38.247,\n        \"num_unique_values\": 198,\n        \"samples\": [\n          27.05,\n          9.281\n        ],\n        \"semantic_type\": \"\",\n        \"description\": \"\"\n      }\n    },\n    {\n      \"column\": \"Drug\",\n      \"properties\": {\n        \"dtype\": \"category\",\n        \"num_unique_values\": 5,\n        \"samples\": [\n          \"drugC\",\n          \"drugB\"\n        ],\n        \"semantic_type\": \"\",\n        \"description\": \"\"\n      }\n    }\n  ]\n}"
            }
          },
          "metadata": {},
          "execution_count": 4
        }
      ],
      "source": [
        "df = pd.read_csv(\"drug200.csv\")\n",
        "df.head()"
      ]
    },
    {
      "cell_type": "markdown",
      "id": "cbced3e4",
      "metadata": {
        "id": "cbced3e4"
      },
      "source": [
        "#### Data Preprocessing\n",
        "\n",
        "This section is complete for this data set\n"
      ]
    },
    {
      "cell_type": "code",
      "execution_count": null,
      "id": "071a0685",
      "metadata": {
        "id": "071a0685",
        "outputId": "62c2c365-40d2-40ef-93fb-7684c2880ccc"
      },
      "outputs": [
        {
          "data": {
            "text/plain": [
              "array([0, 3, 4, 1, 2])"
            ]
          },
          "execution_count": 17,
          "metadata": {},
          "output_type": "execute_result"
        }
      ],
      "source": [
        "# Data Encoding\n",
        "from sklearn.preprocessing import LabelEncoder\n",
        "\n",
        "data_tobe_encoded = [\"Sex\", \"BP\", \"Cholesterol\", \"Drug\"]\n",
        "df_copy = df.copy()\n",
        "label_encoder = LabelEncoder()\n",
        "for column in data_tobe_encoded:\n",
        "    df_copy[column] = label_encoder.fit_transform(df_copy[column])\n",
        "\n",
        "df_copy.head()\n"
      ]
    },
    {
      "cell_type": "code",
      "execution_count": null,
      "id": "3a668b4f",
      "metadata": {
        "id": "3a668b4f"
      },
      "outputs": [],
      "source": [
        "X = df_copy.drop(\"Drug\", axis=1).values\n",
        "y = df_copy[\"Drug\"].values"
      ]
    },
    {
      "cell_type": "code",
      "execution_count": null,
      "id": "6fae2de3",
      "metadata": {
        "id": "6fae2de3"
      },
      "outputs": [],
      "source": [
        "# Data Scaling\n",
        "from sklearn.preprocessing import StandardScaler\n",
        "\n",
        "scaler = StandardScaler()\n",
        "X = scaler.fit_transform(X)"
      ]
    },
    {
      "cell_type": "code",
      "execution_count": null,
      "id": "3ece52d7",
      "metadata": {
        "id": "3ece52d7"
      },
      "outputs": [],
      "source": [
        "# Data Splitting\n",
        "from sklearn.model_selection import train_test_split\n",
        "\n",
        "X_train, X_test, y_train, y_test = train_test_split(X, y, test_size=0.2, random_state=1, stratify=y)"
      ]
    },
    {
      "cell_type": "markdown",
      "id": "03b4a048",
      "metadata": {
        "id": "03b4a048"
      },
      "source": [
        "### Torch DataSet and Loader\n",
        "\n",
        "Task 1. Design a Data Loader for a batch size of 32 with suffling [10/100 pts]\n"
      ]
    },
    {
      "cell_type": "code",
      "execution_count": null,
      "id": "ac990809",
      "metadata": {
        "id": "ac990809"
      },
      "outputs": [],
      "source": [
        "# Dataset\n",
        "class DrugDataset(Dataset):\n",
        "    def __init__(self, X, y):\n",
        "        self.features = torch.tensor(X, dtype=torch.float32)\n",
        "        self.labels = torch.tensor(y, dtype=torch.int64)\n",
        "\n",
        "    def __getitem__(self, index):\n",
        "        return self.features[index], self.labels[index]\n",
        "\n",
        "    def __len__(self):\n",
        "        return self.labels.shape[0]\n",
        "\n",
        "\n",
        "# DataLoader\n",
        "train_ds = DrugDataset(X_train, y_train)\n",
        "test_ds = DrugDataset(X_test, y_test)\n",
        "train_loader = DataLoader(train_ds, batch_size=32, shuffle=True)\n",
        "test_loader = DataLoader(test_ds, batch_size=32, shuffle=False)\n"
      ]
    },
    {
      "cell_type": "markdown",
      "id": "f4939020",
      "metadata": {
        "id": "f4939020"
      },
      "source": [
        "#### MLP Model\n",
        "\n",
        "Task 2: Design a Feed Foward Neural Network that has a test accuracy greater than 90 % [90/100 pts ]\n"
      ]
    },
    {
      "cell_type": "code",
      "execution_count": null,
      "id": "607fd2fe",
      "metadata": {
        "id": "607fd2fe"
      },
      "outputs": [],
      "source": [
        "class PyTorchMLP(torch.nn.Module):\n",
        "    def __init__(self, num_features, num_classes):\n",
        "        super().__init__()\n",
        "\n",
        "        self.all_layers = torch.nn.Sequential(\n",
        "            # input layer\n",
        "            torch.nn.Linear(num_features, 64),\n",
        "            torch.nn.ReLU(),\n",
        "            # output layer\n",
        "            torch.nn.Linear(64, num_classes),\n",
        "            torch.nn.Softmax(),\n",
        "        )\n",
        "\n",
        "    def forward(self, x):\n",
        "        z = self.all_layers(x)\n",
        "        return z\n",
        "\n",
        "\n",
        "num_features = X.shape[1]\n",
        "num_classes = len(df_copy[\"Drug\"].unique())\n",
        "\n",
        "learning_rate = 0.05  # Just selecting a small learning rate for now\n",
        "model = PyTorchMLP(num_features=num_features, num_classes=num_classes)\n",
        "optimizer = torch.optim.SGD(model.parameters(), lr=learning_rate)  # Stochastic gradient descent\n",
        "num_epochs = 20  # Number of epochs to train the model"
      ]
    },
    {
      "cell_type": "markdown",
      "id": "19a85edf",
      "metadata": {
        "id": "19a85edf"
      },
      "source": [
        "#### Train Model\n"
      ]
    },
    {
      "cell_type": "code",
      "execution_count": null,
      "id": "f67ac9d5",
      "metadata": {
        "id": "f67ac9d5",
        "outputId": "868a4e8f-825d-49a0-88ca-524070acb202"
      },
      "outputs": [
        {
          "name": "stdout",
          "output_type": "stream",
          "text": [
            "Epoch [1/20], Loss: 1.5785\n",
            "Epoch [2/20], Loss: 1.5403\n",
            "Epoch [3/20], Loss: 1.5589\n",
            "Epoch [4/20], Loss: 1.5699\n",
            "Epoch [5/20], Loss: 1.5106\n",
            "Epoch [6/20], Loss: 1.5040\n",
            "Epoch [7/20], Loss: 1.5222\n",
            "Epoch [8/20], Loss: 1.4946\n",
            "Epoch [9/20], Loss: 1.4586\n",
            "Epoch [10/20], Loss: 1.4074\n",
            "Epoch [11/20], Loss: 1.4589\n",
            "Epoch [12/20], Loss: 1.4287\n",
            "Epoch [13/20], Loss: 1.3809\n",
            "Epoch [14/20], Loss: 1.3845\n",
            "Epoch [15/20], Loss: 1.3905\n",
            "Epoch [16/20], Loss: 1.3591\n",
            "Epoch [17/20], Loss: 1.3459\n",
            "Epoch [18/20], Loss: 1.3397\n",
            "Epoch [19/20], Loss: 1.3510\n",
            "Epoch [20/20], Loss: 1.3593\n"
          ]
        },
        {
          "name": "stderr",
          "output_type": "stream",
          "text": [
            "c:\\Users\\11005211\\AppData\\Local\\anaconda3\\envs\\test_env\\Lib\\site-packages\\torch\\nn\\modules\\module.py:1751: UserWarning: Implicit dimension choice for softmax has been deprecated. Change the call to include dim=X as an argument.\n",
            "  return self._call_impl(*args, **kwargs)\n"
          ]
        }
      ],
      "source": [
        "def train_model(num_epochs, model, optimizer, train_loader):\n",
        "    for epoch in range(num_epochs):\n",
        "        model = model.train()\n",
        "        for batch_idx, (features, labels) in enumerate(train_loader):\n",
        "            z = model(features)\n",
        "\n",
        "            loss = F.cross_entropy(z, labels)  # Loss function\n",
        "\n",
        "            optimizer.zero_grad()\n",
        "            loss.backward()\n",
        "            optimizer.step()\n",
        "\n",
        "        print(\"Epoch [{}/{}], Loss: {:.4f}\".format(epoch + 1, num_epochs, loss.item()))\n",
        "\n",
        "\n",
        "train_model(num_epochs, model, optimizer, train_loader)"
      ]
    },
    {
      "cell_type": "code",
      "execution_count": null,
      "id": "3b95ea1e",
      "metadata": {
        "id": "3b95ea1e"
      },
      "outputs": [],
      "source": [
        "# Adjust lr first, and then epoch until we reach a good accuracy"
      ]
    },
    {
      "cell_type": "markdown",
      "id": "a50442f6",
      "metadata": {
        "id": "a50442f6"
      },
      "source": [
        "#### Model Accuracy\n"
      ]
    },
    {
      "cell_type": "code",
      "execution_count": null,
      "id": "a4ccf872",
      "metadata": {
        "id": "a4ccf872",
        "outputId": "2672473c-ccc8-47bc-ec4d-9b233071872d"
      },
      "outputs": [
        {
          "name": "stdout",
          "output_type": "stream",
          "text": [
            "Accuracy: 67.5 %\n"
          ]
        }
      ],
      "source": [
        "def test_model(model, test_loader):\n",
        "    model = model.eval()\n",
        "    with torch.no_grad():\n",
        "        correct = 0\n",
        "        total = 0\n",
        "        for features, labels in test_loader:\n",
        "            outputs = model(features)\n",
        "            _, predicted = torch.max(outputs, 1)  # Choose the best class from the output: The class with the best score\n",
        "            total += labels.size(0)\n",
        "            correct += (predicted == labels).sum().item()\n",
        "\n",
        "        print(\"Accuracy: {} %\".format(100 * correct / total))\n",
        "\n",
        "\n",
        "test_model(model, test_loader)"
      ]
    },
    {
      "cell_type": "markdown",
      "id": "2667fb8f",
      "metadata": {
        "id": "2667fb8f"
      },
      "source": [
        "#### Saving & Loading Entire Model\n"
      ]
    },
    {
      "cell_type": "code",
      "execution_count": null,
      "id": "abb47a91",
      "metadata": {
        "id": "abb47a91"
      },
      "outputs": [],
      "source": [
        "# TODO Save the model in the following format and submit it\n",
        "torch.save(model, \"hw4_fred_livingston.mdl\")  # Save the model"
      ]
    }
  ],
  "metadata": {
    "kernelspec": {
      "display_name": "test_env",
      "language": "python",
      "name": "python3"
    },
    "language_info": {
      "codemirror_mode": {
        "name": "ipython",
        "version": 3
      },
      "file_extension": ".py",
      "mimetype": "text/x-python",
      "name": "python",
      "nbconvert_exporter": "python",
      "pygments_lexer": "ipython3",
      "version": "3.12.5"
    },
    "colab": {
      "provenance": []
    }
  },
  "nbformat": 4,
  "nbformat_minor": 5
}