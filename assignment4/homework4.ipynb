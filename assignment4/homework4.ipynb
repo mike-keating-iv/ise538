{
 "cells": [
  {
   "cell_type": "markdown",
   "id": "8a69fb12",
   "metadata": {},
   "source": [
    "EM 538: Practical Machine Learning for Enginnering Analytics (Spring 2025)  \n",
    "Instructor: Fred Livingston (fjliving@ncsu.edu)  \n",
    "Student: Mike Keating\n"
   ]
  },
  {
   "cell_type": "markdown",
   "id": "d71bce70-9dc3-448b-9f9a-8896e83b6d09",
   "metadata": {},
   "source": [
    "## Drug Classification Modeling\n"
   ]
  },
  {
   "cell_type": "code",
   "execution_count": 1,
   "id": "a16b53e7",
   "metadata": {},
   "outputs": [],
   "source": [
    "import pandas as pd\n",
    "import torch\n",
    "from sklearn import preprocessing\n",
    "from torch.utils.data import Dataset, DataLoader\n",
    "import torch.nn.functional as F"
   ]
  },
  {
   "cell_type": "code",
   "execution_count": 2,
   "id": "139648db",
   "metadata": {},
   "outputs": [
    {
     "data": {
      "application/vnd.microsoft.datawrangler.viewer.v0+json": {
       "columns": [
        {
         "name": "index",
         "rawType": "int64",
         "type": "integer"
        },
        {
         "name": "Age",
         "rawType": "int64",
         "type": "integer"
        },
        {
         "name": "Sex",
         "rawType": "object",
         "type": "string"
        },
        {
         "name": "BP",
         "rawType": "object",
         "type": "string"
        },
        {
         "name": "Cholesterol",
         "rawType": "object",
         "type": "string"
        },
        {
         "name": "Na_to_K",
         "rawType": "float64",
         "type": "float"
        },
        {
         "name": "Drug",
         "rawType": "object",
         "type": "string"
        }
       ],
       "ref": "d86bd611-c911-4be2-be48-ebf3b7309b47",
       "rows": [
        [
         "0",
         "23",
         "F",
         "HIGH",
         "HIGH",
         "25.355",
         "DrugY"
        ],
        [
         "1",
         "47",
         "M",
         "LOW",
         "HIGH",
         "13.093",
         "drugC"
        ],
        [
         "2",
         "47",
         "M",
         "LOW",
         "HIGH",
         "10.114",
         "drugC"
        ],
        [
         "3",
         "28",
         "F",
         "NORMAL",
         "HIGH",
         "7.798",
         "drugX"
        ],
        [
         "4",
         "61",
         "F",
         "LOW",
         "HIGH",
         "18.043",
         "DrugY"
        ]
       ],
       "shape": {
        "columns": 6,
        "rows": 5
       }
      },
      "text/html": [
       "<div>\n",
       "<style scoped>\n",
       "    .dataframe tbody tr th:only-of-type {\n",
       "        vertical-align: middle;\n",
       "    }\n",
       "\n",
       "    .dataframe tbody tr th {\n",
       "        vertical-align: top;\n",
       "    }\n",
       "\n",
       "    .dataframe thead th {\n",
       "        text-align: right;\n",
       "    }\n",
       "</style>\n",
       "<table border=\"1\" class=\"dataframe\">\n",
       "  <thead>\n",
       "    <tr style=\"text-align: right;\">\n",
       "      <th></th>\n",
       "      <th>Age</th>\n",
       "      <th>Sex</th>\n",
       "      <th>BP</th>\n",
       "      <th>Cholesterol</th>\n",
       "      <th>Na_to_K</th>\n",
       "      <th>Drug</th>\n",
       "    </tr>\n",
       "  </thead>\n",
       "  <tbody>\n",
       "    <tr>\n",
       "      <th>0</th>\n",
       "      <td>23</td>\n",
       "      <td>F</td>\n",
       "      <td>HIGH</td>\n",
       "      <td>HIGH</td>\n",
       "      <td>25.355</td>\n",
       "      <td>DrugY</td>\n",
       "    </tr>\n",
       "    <tr>\n",
       "      <th>1</th>\n",
       "      <td>47</td>\n",
       "      <td>M</td>\n",
       "      <td>LOW</td>\n",
       "      <td>HIGH</td>\n",
       "      <td>13.093</td>\n",
       "      <td>drugC</td>\n",
       "    </tr>\n",
       "    <tr>\n",
       "      <th>2</th>\n",
       "      <td>47</td>\n",
       "      <td>M</td>\n",
       "      <td>LOW</td>\n",
       "      <td>HIGH</td>\n",
       "      <td>10.114</td>\n",
       "      <td>drugC</td>\n",
       "    </tr>\n",
       "    <tr>\n",
       "      <th>3</th>\n",
       "      <td>28</td>\n",
       "      <td>F</td>\n",
       "      <td>NORMAL</td>\n",
       "      <td>HIGH</td>\n",
       "      <td>7.798</td>\n",
       "      <td>drugX</td>\n",
       "    </tr>\n",
       "    <tr>\n",
       "      <th>4</th>\n",
       "      <td>61</td>\n",
       "      <td>F</td>\n",
       "      <td>LOW</td>\n",
       "      <td>HIGH</td>\n",
       "      <td>18.043</td>\n",
       "      <td>DrugY</td>\n",
       "    </tr>\n",
       "  </tbody>\n",
       "</table>\n",
       "</div>"
      ],
      "text/plain": [
       "   Age Sex      BP Cholesterol  Na_to_K   Drug\n",
       "0   23   F    HIGH        HIGH   25.355  DrugY\n",
       "1   47   M     LOW        HIGH   13.093  drugC\n",
       "2   47   M     LOW        HIGH   10.114  drugC\n",
       "3   28   F  NORMAL        HIGH    7.798  drugX\n",
       "4   61   F     LOW        HIGH   18.043  DrugY"
      ]
     },
     "execution_count": 2,
     "metadata": {},
     "output_type": "execute_result"
    }
   ],
   "source": [
    "df = pd.read_csv(\"drug200.csv\")\n",
    "df.head()"
   ]
  },
  {
   "cell_type": "markdown",
   "id": "cbced3e4",
   "metadata": {},
   "source": [
    "#### Data Preprocessing\n",
    "\n",
    "This section is complete for this data set\n"
   ]
  },
  {
   "cell_type": "code",
   "execution_count": null,
   "id": "071a0685",
   "metadata": {},
   "outputs": [
    {
     "data": {
      "text/plain": [
       "array([0, 3, 4, 1, 2])"
      ]
     },
     "execution_count": 17,
     "metadata": {},
     "output_type": "execute_result"
    }
   ],
   "source": [
    "# Data Encoding\n",
    "from sklearn.preprocessing import LabelEncoder\n",
    "\n",
    "data_tobe_encoded = [\"Sex\", \"BP\", \"Cholesterol\", \"Drug\"]\n",
    "df_copy = df.copy()\n",
    "label_encoder = LabelEncoder()\n",
    "for column in data_tobe_encoded:\n",
    "    df_copy[column] = label_encoder.fit_transform(df_copy[column])\n",
    "\n",
    "df_copy.head()\n"
   ]
  },
  {
   "cell_type": "code",
   "execution_count": 4,
   "id": "3a668b4f",
   "metadata": {},
   "outputs": [],
   "source": [
    "X = df_copy.drop(\"Drug\", axis=1).values\n",
    "y = df_copy[\"Drug\"].values"
   ]
  },
  {
   "cell_type": "code",
   "execution_count": 5,
   "id": "6fae2de3",
   "metadata": {},
   "outputs": [],
   "source": [
    "# Data Scaling\n",
    "from sklearn.preprocessing import StandardScaler\n",
    "\n",
    "scaler = StandardScaler()\n",
    "X = scaler.fit_transform(X)"
   ]
  },
  {
   "cell_type": "code",
   "execution_count": 6,
   "id": "3ece52d7",
   "metadata": {},
   "outputs": [],
   "source": [
    "# Data Splitting\n",
    "from sklearn.model_selection import train_test_split\n",
    "\n",
    "X_train, X_test, y_train, y_test = train_test_split(X, y, test_size=0.2, random_state=1, stratify=y)"
   ]
  },
  {
   "cell_type": "markdown",
   "id": "03b4a048",
   "metadata": {},
   "source": [
    "### Torch DataSet and Loader\n",
    "\n",
    "Task 1. Design a Data Loader for a batch size of 32 with suffling [10/100 pts]\n"
   ]
  },
  {
   "cell_type": "code",
   "execution_count": 10,
   "id": "ac990809",
   "metadata": {},
   "outputs": [],
   "source": [
    "# Dataset\n",
    "class DrugDataset(Dataset):\n",
    "    def __init__(self, X, y):\n",
    "        self.features = torch.tensor(X, dtype=torch.float32)\n",
    "        self.labels = torch.tensor(y, dtype=torch.int64)\n",
    "\n",
    "    def __getitem__(self, index):\n",
    "        return self.features[index], self.labels[index]\n",
    "\n",
    "    def __len__(self):\n",
    "        return self.labels.shape[0]\n",
    "\n",
    "\n",
    "# DataLoader\n",
    "train_ds = DrugDataset(X_train, y_train)\n",
    "test_ds = DrugDataset(X_test, y_test)\n",
    "train_loader = DataLoader(train_ds, batch_size=32, shuffle=True)\n",
    "test_loader = DataLoader(test_ds, batch_size=32, shuffle=False)\n"
   ]
  },
  {
   "cell_type": "markdown",
   "id": "f4939020",
   "metadata": {},
   "source": [
    "#### MLP Model\n",
    "\n",
    "Task 2: Design a Feed Foward Neural Network that has a test accuracy greater than 90 % [90/100 pts ]\n"
   ]
  },
  {
   "cell_type": "code",
   "execution_count": 22,
   "id": "607fd2fe",
   "metadata": {},
   "outputs": [],
   "source": [
    "class PyTorchMLP(torch.nn.Module):\n",
    "    def __init__(self, num_features, num_classes):\n",
    "        super().__init__()\n",
    "\n",
    "        self.all_layers = torch.nn.Sequential(\n",
    "            # input layer\n",
    "            torch.nn.Linear(num_features, 64),\n",
    "            torch.nn.ReLU(),\n",
    "            # output layer\n",
    "            torch.nn.Linear(64, num_classes),\n",
    "            torch.nn.Softmax(),\n",
    "        )\n",
    "\n",
    "    def forward(self, x):\n",
    "        z = self.all_layers(x)\n",
    "        return z\n",
    "\n",
    "\n",
    "num_features = X.shape[1]\n",
    "num_classes = len(df_copy[\"Drug\"].unique())\n",
    "\n",
    "learning_rate = 0.05  # Just selecting a small learning rate for now\n",
    "model = PyTorchMLP(num_features=num_features, num_classes=num_classes)\n",
    "optimizer = torch.optim.SGD(model.parameters(), lr=learning_rate)  # Stochastic gradient descent\n",
    "num_epochs = 20  # Number of epochs to train the model"
   ]
  },
  {
   "cell_type": "markdown",
   "id": "19a85edf",
   "metadata": {},
   "source": [
    "#### Train Model\n"
   ]
  },
  {
   "cell_type": "code",
   "execution_count": 23,
   "id": "f67ac9d5",
   "metadata": {},
   "outputs": [
    {
     "name": "stdout",
     "output_type": "stream",
     "text": [
      "Epoch [1/20], Loss: 1.5785\n",
      "Epoch [2/20], Loss: 1.5403\n",
      "Epoch [3/20], Loss: 1.5589\n",
      "Epoch [4/20], Loss: 1.5699\n",
      "Epoch [5/20], Loss: 1.5106\n",
      "Epoch [6/20], Loss: 1.5040\n",
      "Epoch [7/20], Loss: 1.5222\n",
      "Epoch [8/20], Loss: 1.4946\n",
      "Epoch [9/20], Loss: 1.4586\n",
      "Epoch [10/20], Loss: 1.4074\n",
      "Epoch [11/20], Loss: 1.4589\n",
      "Epoch [12/20], Loss: 1.4287\n",
      "Epoch [13/20], Loss: 1.3809\n",
      "Epoch [14/20], Loss: 1.3845\n",
      "Epoch [15/20], Loss: 1.3905\n",
      "Epoch [16/20], Loss: 1.3591\n",
      "Epoch [17/20], Loss: 1.3459\n",
      "Epoch [18/20], Loss: 1.3397\n",
      "Epoch [19/20], Loss: 1.3510\n",
      "Epoch [20/20], Loss: 1.3593\n"
     ]
    },
    {
     "name": "stderr",
     "output_type": "stream",
     "text": [
      "c:\\Users\\11005211\\AppData\\Local\\anaconda3\\envs\\test_env\\Lib\\site-packages\\torch\\nn\\modules\\module.py:1751: UserWarning: Implicit dimension choice for softmax has been deprecated. Change the call to include dim=X as an argument.\n",
      "  return self._call_impl(*args, **kwargs)\n"
     ]
    }
   ],
   "source": [
    "def train_model(num_epochs, model, optimizer, train_loader):\n",
    "    for epoch in range(num_epochs):\n",
    "        model = model.train()\n",
    "        for batch_idx, (features, labels) in enumerate(train_loader):\n",
    "            z = model(features)\n",
    "\n",
    "            loss = F.cross_entropy(z, labels)  # Loss function\n",
    "\n",
    "            optimizer.zero_grad()\n",
    "            loss.backward()\n",
    "            optimizer.step()\n",
    "\n",
    "        print(\"Epoch [{}/{}], Loss: {:.4f}\".format(epoch + 1, num_epochs, loss.item()))\n",
    "\n",
    "\n",
    "train_model(num_epochs, model, optimizer, train_loader)"
   ]
  },
  {
   "cell_type": "code",
   "execution_count": null,
   "id": "3b95ea1e",
   "metadata": {},
   "outputs": [],
   "source": [
    "# Adjust lr first, and then epoch until we reach a good accuracy"
   ]
  },
  {
   "cell_type": "markdown",
   "id": "a50442f6",
   "metadata": {},
   "source": [
    "#### Model Accuracy\n"
   ]
  },
  {
   "cell_type": "code",
   "execution_count": 24,
   "id": "a4ccf872",
   "metadata": {},
   "outputs": [
    {
     "name": "stdout",
     "output_type": "stream",
     "text": [
      "Accuracy: 67.5 %\n"
     ]
    }
   ],
   "source": [
    "def test_model(model, test_loader):\n",
    "    model = model.eval()\n",
    "    with torch.no_grad():\n",
    "        correct = 0\n",
    "        total = 0\n",
    "        for features, labels in test_loader:\n",
    "            outputs = model(features)\n",
    "            _, predicted = torch.max(outputs, 1)  # Choose the best class from the output: The class with the best score\n",
    "            total += labels.size(0)\n",
    "            correct += (predicted == labels).sum().item()\n",
    "\n",
    "        print(\"Accuracy: {} %\".format(100 * correct / total))\n",
    "\n",
    "\n",
    "test_model(model, test_loader)"
   ]
  },
  {
   "cell_type": "markdown",
   "id": "2667fb8f",
   "metadata": {},
   "source": [
    "#### Saving & Loading Entire Model\n"
   ]
  },
  {
   "cell_type": "code",
   "execution_count": null,
   "id": "abb47a91",
   "metadata": {},
   "outputs": [],
   "source": [
    "# TODO Save the model in the following format and submit it\n",
    "torch.save(model, \"hw4_fred_livingston.mdl\")  # Save the model"
   ]
  }
 ],
 "metadata": {
  "kernelspec": {
   "display_name": "test_env",
   "language": "python",
   "name": "python3"
  },
  "language_info": {
   "codemirror_mode": {
    "name": "ipython",
    "version": 3
   },
   "file_extension": ".py",
   "mimetype": "text/x-python",
   "name": "python",
   "nbconvert_exporter": "python",
   "pygments_lexer": "ipython3",
   "version": "3.12.5"
  }
 },
 "nbformat": 4,
 "nbformat_minor": 5
}
