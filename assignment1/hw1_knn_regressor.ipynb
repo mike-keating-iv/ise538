{
 "cells": [
  {
   "cell_type": "markdown",
   "metadata": {},
   "source": [
    "# EM538: Homework 1: kNN Regressor\n",
    "See: https://scikit-learn.org/stable/modules/generated/sklearn.neighbors.KNeighborsRegressor.html"
   ]
  },
  {
   "cell_type": "markdown",
   "metadata": {},
   "source": [
    "EM 538: Practical Machine Learning for Engineering Analytics (Spring 2025)  \n",
    "\n",
    "- Instructor: Fred Livingston (fjliving@ncsu.edu)   "
   ]
  },
  {
   "cell_type": "markdown",
   "metadata": {},
   "source": [
    "## California Housing Prices Dataset"
   ]
  },
  {
   "cell_type": "markdown",
   "metadata": {},
   "source": [
    "### Task 1: Load Housing Dataset [ 16 pts ]"
   ]
  },
  {
   "cell_type": "code",
   "execution_count": null,
   "metadata": {},
   "outputs": [],
   "source": [
    "\n",
    "import pandas as pd\n",
    "df_housing = pd.read_csv('housing.csv', usecols = ['longitude', 'latitude', 'median_house_value'])"
   ]
  },
  {
   "cell_type": "code",
   "execution_count": null,
   "metadata": {},
   "outputs": [],
   "source": []
  },
  {
   "cell_type": "code",
   "execution_count": null,
   "metadata": {},
   "outputs": [],
   "source": []
  },
  {
   "cell_type": "markdown",
   "metadata": {},
   "source": [
    "\n",
    "* 1a. How many features (m) are in the dataset [ 4 pts ]\n",
    "* 1b. Describe the features names [ 4 pts ]\n",
    "* 1c. How many samples (n) are in this dataset [ 4 pts ]\n",
    "* 1d. Describe the classification outputs (datatypes, etc) y [ 4 pts ]\n"
   ]
  },
  {
   "cell_type": "markdown",
   "metadata": {},
   "source": []
  },
  {
   "cell_type": "markdown",
   "metadata": {},
   "source": [
    "### Task 2: Visualize Housing Data [ 15 pts ]"
   ]
  },
  {
   "cell_type": "markdown",
   "metadata": {},
   "source": [
    "* 2a. Using the California Data set, plot the median house value, w.r.t to the following features: longitude, latatitude [ 13 pts ]\n",
    "* 2b. Where are the most expensize house located [ 2 pts ]"
   ]
  },
  {
   "cell_type": "code",
   "execution_count": null,
   "metadata": {},
   "outputs": [],
   "source": [
    "import seaborn as sns\n",
    "#TODO"
   ]
  },
  {
   "cell_type": "markdown",
   "metadata": {},
   "source": [
    "### Task 3: Prepare Training, Testing Datasets [ 14 pts ]\n",
    "Using the Simple Holdout Method with a random seed of 123, Randoms sample 20% of the Data for Testing, and the remainder for Training\n"
   ]
  },
  {
   "cell_type": "code",
   "execution_count": null,
   "metadata": {},
   "outputs": [],
   "source": []
  },
  {
   "cell_type": "markdown",
   "metadata": {},
   "source": [
    "\n",
    "* 3a. Implement the Simple Holdout Method Algorith in the bellow cell [ 8 pts ]"
   ]
  },
  {
   "cell_type": "code",
   "execution_count": null,
   "metadata": {},
   "outputs": [],
   "source": [
    "# Prepare Training, and Testing Datasets\n",
    "from sklearn.model_selection import train_test_split\n",
    "\n",
    "# TODO  Split the data into 80% training and 20% testing into the following: X_train, X_test, y_train, y_test \n"
   ]
  },
  {
   "cell_type": "markdown",
   "metadata": {},
   "source": [
    "* 3b. Determine the size of the Training Set [ 3 pts ]\n",
    "* 3c. Determine the size of the Testing Set [ 3 pts ]"
   ]
  },
  {
   "cell_type": "code",
   "execution_count": null,
   "metadata": {},
   "outputs": [],
   "source": [
    "print(f'X_train.shape: {X_train.shape}')\n",
    "print(f'y_train.shape: {y_train.shape}')\n",
    "print(f'X_test.shape: {X_test.shape}')\n",
    "print(f'y_test.shape: {y_test.shape}')"
   ]
  },
  {
   "cell_type": "markdown",
   "metadata": {},
   "source": [
    "### Task 4: - Fit k-Nearest Neighbor Model [ 45 pts ]"
   ]
  },
  {
   "cell_type": "markdown",
   "metadata": {},
   "source": [
    "Next, we are going to use the `KNeighborsRegressor` class from scikit-learn and instantiate a new KNN object, which we call `knn_model`. Then, we \"fit\" this model the training dataset.\n",
    "\n",
    "Training our model on all possible K values (odd) from 3 to 10:\n",
    "\n",
    "Chose an odd value of K when you have 2 classes to avoid ties. i.e. If the new data point is right between the two classes it cannot decide which one to go with.\n",
    "K must not be a multiple of the number of classes\n",
    "If K is very small ( Overfit ), will not be accurate if you have many data points (n)\n",
    "If K is very large ( Underfit ), K must not be equal to the number of data points n"
   ]
  },
  {
   "cell_type": "markdown",
   "metadata": {},
   "source": [
    "* 4a. Implement the KNeighborsRegressor for k = 3, 5, 7, and 10 [ 35 pts ]"
   ]
  },
  {
   "cell_type": "code",
   "execution_count": null,
   "metadata": {},
   "outputs": [],
   "source": [
    "\n",
    "# TODO  Train a KNeighbors Regression model"
   ]
  },
  {
   "cell_type": "code",
   "execution_count": null,
   "metadata": {},
   "outputs": [],
   "source": [
    "\n"
   ]
  },
  {
   "cell_type": "markdown",
   "metadata": {},
   "source": [
    "* 4b. Determine the optimal n_neighbors based on Max Error [ 5 pts ]\n",
    "* 4c. What is the maximum error of the prediction [ 5 pts ]"
   ]
  },
  {
   "cell_type": "markdown",
   "metadata": {},
   "source": [
    "### Task 5: Evaluate the Accuracy of the best performing model and determine is Max Error [ 10 pts ]"
   ]
  },
  {
   "cell_type": "code",
   "execution_count": null,
   "metadata": {},
   "outputs": [],
   "source": []
  },
  {
   "cell_type": "markdown",
   "metadata": {},
   "source": [
    "* 5a. Using the Test Data set, determine the accuracy of the final model [ 5 pts ]\n",
    "* 5b. Show Price prediction using the test data set [ 5 pts ]"
   ]
  },
  {
   "cell_type": "code",
   "execution_count": null,
   "metadata": {},
   "outputs": [],
   "source": []
  }
 ],
 "metadata": {
  "kernelspec": {
   "display_name": "Python 3 (ipykernel)",
   "language": "python",
   "name": "python3"
  },
  "language_info": {
   "codemirror_mode": {
    "name": "ipython",
    "version": 3
   },
   "file_extension": ".py",
   "mimetype": "text/x-python",
   "name": "python",
   "nbconvert_exporter": "python",
   "pygments_lexer": "ipython3",
   "version": "3.11.9"
  }
 },
 "nbformat": 4,
 "nbformat_minor": 4
}
