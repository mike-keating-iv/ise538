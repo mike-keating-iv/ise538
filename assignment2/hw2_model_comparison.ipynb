{
  "cells": [
    {
      "cell_type": "markdown",
      "metadata": {
        "id": "CQgbjDLFd_BZ"
      },
      "source": [
        "EM 589: Practical Machine Learning for Enginnering Analytics (Spring 2025)  \n",
        "Instructor: Fred Livingston (fjliving@ncsu.edu)"
      ]
    },
    {
      "cell_type": "markdown",
      "metadata": {
        "id": "b3Khb1cFd_Bd"
      },
      "source": [
        "# Homework 002: Using Supervised Learning to Titanic shipwreck survivors"
      ]
    },
    {
      "cell_type": "markdown",
      "metadata": {
        "id": "tzm3MsIsd_Bi"
      },
      "source": [
        "This is the legendary Titanic ML competition.\n",
        "Use a machine learning to create a supervised learning classifier model that predicts which passengers survived the Titanic shipwreck.\n"
      ]
    },
    {
      "cell_type": "markdown",
      "metadata": {
        "id": "WAaRrq6ud_Bi"
      },
      "source": [
        "## Prepare the Data for Machine Learning Algorithms"
      ]
    },
    {
      "cell_type": "code",
      "execution_count": 1,
      "metadata": {
        "id": "VtGHl3s0d_Bi"
      },
      "outputs": [],
      "source": [
        "import pandas as pd\n",
        "titanic_df = pd.read_csv('datasets/train.csv',index_col='PassengerId')"
      ]
    },
    {
      "cell_type": "markdown",
      "metadata": {
        "id": "jaJTasgzd_Bi"
      },
      "source": [
        "### Take a Quick Look at the Data Structure"
      ]
    },
    {
      "cell_type": "code",
      "execution_count": 2,
      "metadata": {
        "id": "eaIVVP-cd_Bj",
        "outputId": "9d000918-f740-430a-9bd5-69a4f6326657"
      },
      "outputs": [
        {
          "data": {
            "text/html": [
              "<div>\n",
              "<style scoped>\n",
              "    .dataframe tbody tr th:only-of-type {\n",
              "        vertical-align: middle;\n",
              "    }\n",
              "\n",
              "    .dataframe tbody tr th {\n",
              "        vertical-align: top;\n",
              "    }\n",
              "\n",
              "    .dataframe thead th {\n",
              "        text-align: right;\n",
              "    }\n",
              "</style>\n",
              "<table border=\"1\" class=\"dataframe\">\n",
              "  <thead>\n",
              "    <tr style=\"text-align: right;\">\n",
              "      <th></th>\n",
              "      <th>Survived</th>\n",
              "      <th>Pclass</th>\n",
              "      <th>Name</th>\n",
              "      <th>Sex</th>\n",
              "      <th>Age</th>\n",
              "      <th>SibSp</th>\n",
              "      <th>Parch</th>\n",
              "      <th>Ticket</th>\n",
              "      <th>Fare</th>\n",
              "      <th>Cabin</th>\n",
              "      <th>Embarked</th>\n",
              "    </tr>\n",
              "    <tr>\n",
              "      <th>PassengerId</th>\n",
              "      <th></th>\n",
              "      <th></th>\n",
              "      <th></th>\n",
              "      <th></th>\n",
              "      <th></th>\n",
              "      <th></th>\n",
              "      <th></th>\n",
              "      <th></th>\n",
              "      <th></th>\n",
              "      <th></th>\n",
              "      <th></th>\n",
              "    </tr>\n",
              "  </thead>\n",
              "  <tbody>\n",
              "    <tr>\n",
              "      <th>1</th>\n",
              "      <td>0</td>\n",
              "      <td>3</td>\n",
              "      <td>Braund, Mr. Owen Harris</td>\n",
              "      <td>male</td>\n",
              "      <td>22.0</td>\n",
              "      <td>1</td>\n",
              "      <td>0</td>\n",
              "      <td>A/5 21171</td>\n",
              "      <td>7.2500</td>\n",
              "      <td>NaN</td>\n",
              "      <td>S</td>\n",
              "    </tr>\n",
              "    <tr>\n",
              "      <th>2</th>\n",
              "      <td>1</td>\n",
              "      <td>1</td>\n",
              "      <td>Cumings, Mrs. John Bradley (Florence Briggs Th...</td>\n",
              "      <td>female</td>\n",
              "      <td>38.0</td>\n",
              "      <td>1</td>\n",
              "      <td>0</td>\n",
              "      <td>PC 17599</td>\n",
              "      <td>71.2833</td>\n",
              "      <td>C85</td>\n",
              "      <td>C</td>\n",
              "    </tr>\n",
              "    <tr>\n",
              "      <th>3</th>\n",
              "      <td>1</td>\n",
              "      <td>3</td>\n",
              "      <td>Heikkinen, Miss. Laina</td>\n",
              "      <td>female</td>\n",
              "      <td>26.0</td>\n",
              "      <td>0</td>\n",
              "      <td>0</td>\n",
              "      <td>STON/O2. 3101282</td>\n",
              "      <td>7.9250</td>\n",
              "      <td>NaN</td>\n",
              "      <td>S</td>\n",
              "    </tr>\n",
              "    <tr>\n",
              "      <th>4</th>\n",
              "      <td>1</td>\n",
              "      <td>1</td>\n",
              "      <td>Futrelle, Mrs. Jacques Heath (Lily May Peel)</td>\n",
              "      <td>female</td>\n",
              "      <td>35.0</td>\n",
              "      <td>1</td>\n",
              "      <td>0</td>\n",
              "      <td>113803</td>\n",
              "      <td>53.1000</td>\n",
              "      <td>C123</td>\n",
              "      <td>S</td>\n",
              "    </tr>\n",
              "    <tr>\n",
              "      <th>5</th>\n",
              "      <td>0</td>\n",
              "      <td>3</td>\n",
              "      <td>Allen, Mr. William Henry</td>\n",
              "      <td>male</td>\n",
              "      <td>35.0</td>\n",
              "      <td>0</td>\n",
              "      <td>0</td>\n",
              "      <td>373450</td>\n",
              "      <td>8.0500</td>\n",
              "      <td>NaN</td>\n",
              "      <td>S</td>\n",
              "    </tr>\n",
              "  </tbody>\n",
              "</table>\n",
              "</div>"
            ],
            "text/plain": [
              "             Survived  Pclass  \\\n",
              "PassengerId                     \n",
              "1                   0       3   \n",
              "2                   1       1   \n",
              "3                   1       3   \n",
              "4                   1       1   \n",
              "5                   0       3   \n",
              "\n",
              "                                                          Name     Sex   Age  \\\n",
              "PassengerId                                                                    \n",
              "1                                      Braund, Mr. Owen Harris    male  22.0   \n",
              "2            Cumings, Mrs. John Bradley (Florence Briggs Th...  female  38.0   \n",
              "3                                       Heikkinen, Miss. Laina  female  26.0   \n",
              "4                 Futrelle, Mrs. Jacques Heath (Lily May Peel)  female  35.0   \n",
              "5                                     Allen, Mr. William Henry    male  35.0   \n",
              "\n",
              "             SibSp  Parch            Ticket     Fare Cabin Embarked  \n",
              "PassengerId                                                          \n",
              "1                1      0         A/5 21171   7.2500   NaN        S  \n",
              "2                1      0          PC 17599  71.2833   C85        C  \n",
              "3                0      0  STON/O2. 3101282   7.9250   NaN        S  \n",
              "4                1      0            113803  53.1000  C123        S  \n",
              "5                0      0            373450   8.0500   NaN        S  "
            ]
          },
          "execution_count": 2,
          "metadata": {},
          "output_type": "execute_result"
        }
      ],
      "source": [
        "titanic_df.head()"
      ]
    },
    {
      "cell_type": "code",
      "execution_count": 3,
      "metadata": {},
      "outputs": [
        {
          "name": "stdout",
          "output_type": "stream",
          "text": [
            "<class 'pandas.core.frame.DataFrame'>\n",
            "Index: 891 entries, 1 to 891\n",
            "Data columns (total 11 columns):\n",
            " #   Column    Non-Null Count  Dtype  \n",
            "---  ------    --------------  -----  \n",
            " 0   Survived  891 non-null    int64  \n",
            " 1   Pclass    891 non-null    int64  \n",
            " 2   Name      891 non-null    object \n",
            " 3   Sex       891 non-null    object \n",
            " 4   Age       714 non-null    float64\n",
            " 5   SibSp     891 non-null    int64  \n",
            " 6   Parch     891 non-null    int64  \n",
            " 7   Ticket    891 non-null    object \n",
            " 8   Fare      891 non-null    float64\n",
            " 9   Cabin     204 non-null    object \n",
            " 10  Embarked  889 non-null    object \n",
            "dtypes: float64(2), int64(4), object(5)\n",
            "memory usage: 83.5+ KB\n"
          ]
        }
      ],
      "source": [
        "titanic_df.info()"
      ]
    },
    {
      "cell_type": "markdown",
      "metadata": {},
      "source": [
        "### Task 1: Data Wrangling Cleaning [ 15pts ]"
      ]
    },
    {
      "cell_type": "markdown",
      "metadata": {},
      "source": [
        "- Transform the input fearture 'Sex' from an object data type to int64 [ 5pts ]"
      ]
    },
    {
      "cell_type": "code",
      "execution_count": 10,
      "metadata": {},
      "outputs": [
        {
          "data": {
            "text/plain": [
              "PassengerId\n",
              "1      1\n",
              "2      0\n",
              "3      0\n",
              "4      0\n",
              "5      1\n",
              "      ..\n",
              "887    1\n",
              "888    0\n",
              "889    0\n",
              "890    1\n",
              "891    1\n",
              "Name: Sex, Length: 891, dtype: int64"
            ]
          },
          "execution_count": 10,
          "metadata": {},
          "output_type": "execute_result"
        }
      ],
      "source": [
        "from sklearn.preprocessing import LabelEncoder\n",
        "le = LabelEncoder()\n",
        "le.fit(titanic_df.Sex)\n",
        "titanic_df.Sex = le.transform(titanic_df.Sex)\n",
        "titanic_df.Sex"
      ]
    },
    {
      "cell_type": "markdown",
      "metadata": {},
      "source": [
        "- Remove all other Features with the object data type [5pts]"
      ]
    },
    {
      "cell_type": "code",
      "execution_count": 12,
      "metadata": {},
      "outputs": [
        {
          "name": "stdout",
          "output_type": "stream",
          "text": [
            "<class 'pandas.core.frame.DataFrame'>\n",
            "Index: 891 entries, 1 to 891\n",
            "Data columns (total 7 columns):\n",
            " #   Column    Non-Null Count  Dtype  \n",
            "---  ------    --------------  -----  \n",
            " 0   Survived  891 non-null    int64  \n",
            " 1   Pclass    891 non-null    int64  \n",
            " 2   Sex       891 non-null    int64  \n",
            " 3   Age       714 non-null    float64\n",
            " 4   SibSp     891 non-null    int64  \n",
            " 5   Parch     891 non-null    int64  \n",
            " 6   Fare      891 non-null    float64\n",
            "dtypes: float64(2), int64(5)\n",
            "memory usage: 55.7 KB\n"
          ]
        }
      ],
      "source": [
        "# TODO: Drop columns\n",
        "\n",
        "titanic_df = titanic_df.select_dtypes(exclude=\"object\")\n",
        "titanic_df.info()"
      ]
    },
    {
      "cell_type": "markdown",
      "metadata": {},
      "source": [
        "- Notice that some Features contain NULL elements, Remove all NAN from data set [5pts]"
      ]
    },
    {
      "cell_type": "code",
      "execution_count": 16,
      "metadata": {},
      "outputs": [
        {
          "name": "stdout",
          "output_type": "stream",
          "text": [
            "<class 'pandas.core.frame.DataFrame'>\n",
            "Index: 714 entries, 1 to 891\n",
            "Data columns (total 7 columns):\n",
            " #   Column    Non-Null Count  Dtype  \n",
            "---  ------    --------------  -----  \n",
            " 0   Survived  714 non-null    int64  \n",
            " 1   Pclass    714 non-null    int64  \n",
            " 2   Sex       714 non-null    int64  \n",
            " 3   Age       714 non-null    float64\n",
            " 4   SibSp     714 non-null    int64  \n",
            " 5   Parch     714 non-null    int64  \n",
            " 6   Fare      714 non-null    float64\n",
            "dtypes: float64(2), int64(5)\n",
            "memory usage: 44.6 KB\n"
          ]
        }
      ],
      "source": [
        "# Drop rows with missing values\n",
        "titanic_df.dropna(inplace=True)\n",
        "titanic_df.info()\n"
      ]
    },
    {
      "cell_type": "markdown",
      "metadata": {},
      "source": [
        "#### Your Final DataFrame should look something like the image below\n",
        "<img src=\"images/x_trained_df.png\" alt=\"drawing\" width=\"400\"/>"
      ]
    },
    {
      "cell_type": "markdown",
      "metadata": {},
      "source": [
        "### Task 2: Using the Correlation Matrix, Determine the Top 5 paramaters in order of significance for predicting Survival [10 pts]"
      ]
    },
    {
      "cell_type": "code",
      "execution_count": 32,
      "metadata": {},
      "outputs": [
        {
          "data": {
            "image/png": "[encoded data removed]",
            "text/plain": [
              "<Figure size 640x480 with 2 Axes>"
            ]
          },
          "metadata": {},
          "output_type": "display_data"
        },
        {
          "name": "stdout",
          "output_type": "stream",
          "text": [
            "The top 5 features to predict survavival are: ['Sex', 'Pclass', 'Fare', 'Parch', 'Age']\n"
          ]
        }
      ],
      "source": [
        "import numpy as np\n",
        "import seaborn as sn\n",
        "import matplotlib.pyplot as plt\n",
        "\n",
        "cov_matrix = pd.DataFrame.corr(titanic_df)\n",
        "sn.heatmap(cov_matrix, annot=True)\n",
        "plt.show()\n",
        "\n",
        "# To get the top 5 features, we will grab the largest magnitude covariance values\n",
        "top_features = cov_matrix.Survived.drop(labels=\"Survived\").abs().nlargest(5).index.tolist()\n",
        "print(f\"The top 5 features to predict survavival are: {top_features}\")"
      ]
    },
    {
      "cell_type": "markdown",
      "metadata": {},
      "source": [
        "### Task 3. Create a Test, and Validation Set\n",
        "Using a three-way Holdout Method with a random seed of 123 and 20% test size percentage\n",
        "creat a training, validation, and test set using the Top features from the feature correlation to predict output = \"Survived\""
      ]
    },
    {
      "cell_type": "markdown",
      "metadata": {},
      "source": [
        "<img src=\"images/holdout-tuning.png\" alt=\"drawing\" width=\"400\"/>"
      ]
    },
    {
      "cell_type": "code",
      "execution_count": 18,
      "metadata": {
        "id": "Al_Uvv6Jd_Bj",
        "outputId": "bfcca184-3736-4bee-fb68-ac999e2722d7"
      },
      "outputs": [],
      "source": [
        "y = titanic_df[\"Survived\"]\n",
        "X = titanic_df[[\"Sex\", \"Pclass\", \"Fare\", \"Parch\", \"Age\", \"SibSp\"]]\n"
      ]
    },
    {
      "cell_type": "code",
      "execution_count": 19,
      "metadata": {},
      "outputs": [],
      "source": [
        "import numpy as np\n",
        "from sklearn.model_selection import train_test_split\n",
        "\n",
        "X_temp, X_test, y_temp, y_test = \\\n",
        "        train_test_split(X, y, test_size=0.2, \n",
        "                         shuffle=True, random_state=123, stratify=y)\n",
        "X_train, X_valid, y_train, y_valid = \\\n",
        "        train_test_split(X_temp, y_temp, test_size=0.2,\n",
        "                         shuffle=True, random_state=123, stratify=y_temp)"
      ]
    },
    {
      "cell_type": "markdown",
      "metadata": {
        "id": "z0_PfT0ud_CF"
      },
      "source": []
    },
    {
      "cell_type": "markdown",
      "metadata": {
        "id": "8ztcj9iid_CF"
      },
      "source": [
        "### Task 5: Using Logistic Regression, KNN, Stochastic Gradient Descent, determine models training and validation, accuracy and optimized hyperparams to best predict Survival Rate [ 60 pts ]\n"
      ]
    },
    {
      "cell_type": "markdown",
      "metadata": {},
      "source": [
        "#### Logistic Regression Model\n",
        "- Model Implementation [5 pts]\n",
        "- Training Accuracy [5pts]\n",
        "- Validation Accuracy [5pts]"
      ]
    },
    {
      "cell_type": "code",
      "execution_count": null,
      "metadata": {},
      "outputs": [],
      "source": [
        "# Logistic Regression\n",
        "from sklearn.linear_model import LogisticRegression\n",
        "# TODO: Create a Logistic Regression model\n",
        "from sklearn.pipeline import Pipeline\n",
        "\n",
        "pipe_lr = Pipeline()"
      ]
    },
    {
      "cell_type": "markdown",
      "metadata": {},
      "source": [
        "#### KNeighborsClassifier Model\n",
        "n_neighbors = [ 1, 3, 5, 7, 9, 11, 13, 15, 17, 19, 21, 23, 25]\n",
        "- Model Implementation [5 pts]\n",
        "- Training Accuracy [5pts]\n",
        "- Validation Accuracy [5pts]\n",
        "- Optimal N_neighbors [5pts]\n",
        "- Describe the relationship between training and validation accuracy [5pts]"
      ]
    },
    {
      "cell_type": "code",
      "execution_count": null,
      "metadata": {},
      "outputs": [],
      "source": [
        "from sklearn.neighbors import KNeighborsClassifier\n",
        "knn_models = []\n",
        "acc_knn = []\n",
        "n_neighbors = [ 1, 3, 5, 7, 9, 11, 13, 15, 17, 19, 21, 23, 25]\n",
        "\n",
        "# TODO: Create a KNN model\n"
      ]
    },
    {
      "cell_type": "markdown",
      "metadata": {},
      "source": [
        "### Stochastic Gradient Descent\n",
        "- Model Implementation [10 pts]\n",
        "- Training Accuracy [5pts]\n",
        "- Validation Accuracy [5pts]"
      ]
    },
    {
      "cell_type": "code",
      "execution_count": null,
      "metadata": {},
      "outputs": [],
      "source": [
        "# Stochastic Gradient Descent\n",
        "from sklearn.linear_model import SGDClassifier\n",
        "\n",
        "# TODO: Create a Stochastic Gradient Descent model\n"
      ]
    },
    {
      "cell_type": "markdown",
      "metadata": {
        "id": "10N-8k_Zd_CO"
      },
      "source": [
        "### Task 6: Choose the best Model and evaulate its performance on the test data set [ 15 pts ]\n",
        "- Best Model [5 pts]\n",
        "- Test Accuracy [5 pts]\n",
        "- How does the Test accuracy differ from the validation accuracy? [5 pts]"
      ]
    },
    {
      "cell_type": "code",
      "execution_count": null,
      "metadata": {
        "id": "yRww9ZGPd_CP",
        "outputId": "ead0e7bc-d499-486a-f6a4-b716fb5c0422"
      },
      "outputs": [],
      "source": [
        "# TODO: Fit the models"
      ]
    }
  ],
  "metadata": {
    "colab": {
      "provenance": []
    },
    "kernelspec": {
      "display_name": "pyml",
      "language": "python",
      "name": "python3"
    },
    "language_info": {
      "codemirror_mode": {
        "name": "ipython",
        "version": 3
      },
      "file_extension": ".py",
      "mimetype": "text/x-python",
      "name": "python",
      "nbconvert_exporter": "python",
      "pygments_lexer": "ipython3",
      "version": "3.13.2"
    },
    "nav_menu": {
      "height": "279px",
      "width": "309px"
    },
    "toc": {
      "nav_menu": {},
      "number_sections": true,
      "sideBar": true,
      "skip_h1_title": false,
      "toc_cell": false,
      "toc_position": {},
      "toc_section_display": "block",
      "toc_window_display": false
    }
  },
  "nbformat": 4,
  "nbformat_minor": 0
}
