{
  "cells": [
    {
      "cell_type": "markdown",
      "metadata": {
        "id": "CQgbjDLFd_BZ"
      },
      "source": [
        "EM 589: Practical Machine Learning for Enginnering Analytics (Spring 2025)  \n",
        "Instructor: Fred Livingston (fjliving@ncsu.edu)\n",
        "\n",
        "Student: Mike Keating\n",
        "\n",
        "Date: 6/24/25\n"
      ]
    },
    {
      "cell_type": "markdown",
      "metadata": {
        "id": "b3Khb1cFd_Bd"
      },
      "source": [
        "# Homework 002: Using Supervised Learning to Titanic shipwreck survivors\n"
      ]
    },
    {
      "cell_type": "markdown",
      "metadata": {
        "id": "tzm3MsIsd_Bi"
      },
      "source": [
        "This is the legendary Titanic ML competition.\n",
        "Use a machine learning to create a supervised learning classifier model that predicts which passengers survived the Titanic shipwreck.\n"
      ]
    },
    {
      "cell_type": "markdown",
      "metadata": {
        "id": "WAaRrq6ud_Bi"
      },
      "source": [
        "## Prepare the Data for Machine Learning Algorithms\n"
      ]
    },
    {
      "cell_type": "code",
      "execution_count": 1,
      "metadata": {
        "id": "VtGHl3s0d_Bi"
      },
      "outputs": [],
      "source": [
        "import pandas as pd\n",
        "\n",
        "titanic_df = pd.read_csv(\"datasets/train.csv\", index_col=\"PassengerId\")"
      ]
    },
    {
      "cell_type": "markdown",
      "metadata": {
        "id": "jaJTasgzd_Bi"
      },
      "source": [
        "### Take a Quick Look at the Data Structure\n"
      ]
    },
    {
      "cell_type": "code",
      "execution_count": 2,
      "metadata": {
        "id": "eaIVVP-cd_Bj",
        "outputId": "9d000918-f740-430a-9bd5-69a4f6326657"
      },
      "outputs": [
        {
          "data": {
            "text/html": [
              "<div>\n",
              "<style scoped>\n",
              "    .dataframe tbody tr th:only-of-type {\n",
              "        vertical-align: middle;\n",
              "    }\n",
              "\n",
              "    .dataframe tbody tr th {\n",
              "        vertical-align: top;\n",
              "    }\n",
              "\n",
              "    .dataframe thead th {\n",
              "        text-align: right;\n",
              "    }\n",
              "</style>\n",
              "<table border=\"1\" class=\"dataframe\">\n",
              "  <thead>\n",
              "    <tr style=\"text-align: right;\">\n",
              "      <th></th>\n",
              "      <th>Survived</th>\n",
              "      <th>Pclass</th>\n",
              "      <th>Name</th>\n",
              "      <th>Sex</th>\n",
              "      <th>Age</th>\n",
              "      <th>SibSp</th>\n",
              "      <th>Parch</th>\n",
              "      <th>Ticket</th>\n",
              "      <th>Fare</th>\n",
              "      <th>Cabin</th>\n",
              "      <th>Embarked</th>\n",
              "    </tr>\n",
              "    <tr>\n",
              "      <th>PassengerId</th>\n",
              "      <th></th>\n",
              "      <th></th>\n",
              "      <th></th>\n",
              "      <th></th>\n",
              "      <th></th>\n",
              "      <th></th>\n",
              "      <th></th>\n",
              "      <th></th>\n",
              "      <th></th>\n",
              "      <th></th>\n",
              "      <th></th>\n",
              "    </tr>\n",
              "  </thead>\n",
              "  <tbody>\n",
              "    <tr>\n",
              "      <th>1</th>\n",
              "      <td>0</td>\n",
              "      <td>3</td>\n",
              "      <td>Braund, Mr. Owen Harris</td>\n",
              "      <td>male</td>\n",
              "      <td>22.0</td>\n",
              "      <td>1</td>\n",
              "      <td>0</td>\n",
              "      <td>A/5 21171</td>\n",
              "      <td>7.2500</td>\n",
              "      <td>NaN</td>\n",
              "      <td>S</td>\n",
              "    </tr>\n",
              "    <tr>\n",
              "      <th>2</th>\n",
              "      <td>1</td>\n",
              "      <td>1</td>\n",
              "      <td>Cumings, Mrs. John Bradley (Florence Briggs Th...</td>\n",
              "      <td>female</td>\n",
              "      <td>38.0</td>\n",
              "      <td>1</td>\n",
              "      <td>0</td>\n",
              "      <td>PC 17599</td>\n",
              "      <td>71.2833</td>\n",
              "      <td>C85</td>\n",
              "      <td>C</td>\n",
              "    </tr>\n",
              "    <tr>\n",
              "      <th>3</th>\n",
              "      <td>1</td>\n",
              "      <td>3</td>\n",
              "      <td>Heikkinen, Miss. Laina</td>\n",
              "      <td>female</td>\n",
              "      <td>26.0</td>\n",
              "      <td>0</td>\n",
              "      <td>0</td>\n",
              "      <td>STON/O2. 3101282</td>\n",
              "      <td>7.9250</td>\n",
              "      <td>NaN</td>\n",
              "      <td>S</td>\n",
              "    </tr>\n",
              "    <tr>\n",
              "      <th>4</th>\n",
              "      <td>1</td>\n",
              "      <td>1</td>\n",
              "      <td>Futrelle, Mrs. Jacques Heath (Lily May Peel)</td>\n",
              "      <td>female</td>\n",
              "      <td>35.0</td>\n",
              "      <td>1</td>\n",
              "      <td>0</td>\n",
              "      <td>113803</td>\n",
              "      <td>53.1000</td>\n",
              "      <td>C123</td>\n",
              "      <td>S</td>\n",
              "    </tr>\n",
              "    <tr>\n",
              "      <th>5</th>\n",
              "      <td>0</td>\n",
              "      <td>3</td>\n",
              "      <td>Allen, Mr. William Henry</td>\n",
              "      <td>male</td>\n",
              "      <td>35.0</td>\n",
              "      <td>0</td>\n",
              "      <td>0</td>\n",
              "      <td>373450</td>\n",
              "      <td>8.0500</td>\n",
              "      <td>NaN</td>\n",
              "      <td>S</td>\n",
              "    </tr>\n",
              "  </tbody>\n",
              "</table>\n",
              "</div>"
            ],
            "text/plain": [
              "             Survived  Pclass  \\\n",
              "PassengerId                     \n",
              "1                   0       3   \n",
              "2                   1       1   \n",
              "3                   1       3   \n",
              "4                   1       1   \n",
              "5                   0       3   \n",
              "\n",
              "                                                          Name     Sex   Age  \\\n",
              "PassengerId                                                                    \n",
              "1                                      Braund, Mr. Owen Harris    male  22.0   \n",
              "2            Cumings, Mrs. John Bradley (Florence Briggs Th...  female  38.0   \n",
              "3                                       Heikkinen, Miss. Laina  female  26.0   \n",
              "4                 Futrelle, Mrs. Jacques Heath (Lily May Peel)  female  35.0   \n",
              "5                                     Allen, Mr. William Henry    male  35.0   \n",
              "\n",
              "             SibSp  Parch            Ticket     Fare Cabin Embarked  \n",
              "PassengerId                                                          \n",
              "1                1      0         A/5 21171   7.2500   NaN        S  \n",
              "2                1      0          PC 17599  71.2833   C85        C  \n",
              "3                0      0  STON/O2. 3101282   7.9250   NaN        S  \n",
              "4                1      0            113803  53.1000  C123        S  \n",
              "5                0      0            373450   8.0500   NaN        S  "
            ]
          },
          "execution_count": 2,
          "metadata": {},
          "output_type": "execute_result"
        }
      ],
      "source": [
        "titanic_df.head()"
      ]
    },
    {
      "cell_type": "code",
      "execution_count": 3,
      "metadata": {},
      "outputs": [
        {
          "name": "stdout",
          "output_type": "stream",
          "text": [
            "<class 'pandas.core.frame.DataFrame'>\n",
            "Index: 891 entries, 1 to 891\n",
            "Data columns (total 11 columns):\n",
            " #   Column    Non-Null Count  Dtype  \n",
            "---  ------    --------------  -----  \n",
            " 0   Survived  891 non-null    int64  \n",
            " 1   Pclass    891 non-null    int64  \n",
            " 2   Name      891 non-null    object \n",
            " 3   Sex       891 non-null    object \n",
            " 4   Age       714 non-null    float64\n",
            " 5   SibSp     891 non-null    int64  \n",
            " 6   Parch     891 non-null    int64  \n",
            " 7   Ticket    891 non-null    object \n",
            " 8   Fare      891 non-null    float64\n",
            " 9   Cabin     204 non-null    object \n",
            " 10  Embarked  889 non-null    object \n",
            "dtypes: float64(2), int64(4), object(5)\n",
            "memory usage: 83.5+ KB\n"
          ]
        }
      ],
      "source": [
        "titanic_df.info()"
      ]
    },
    {
      "cell_type": "markdown",
      "metadata": {},
      "source": [
        "### Task 1: Data Wrangling Cleaning [ 15pts ]\n"
      ]
    },
    {
      "cell_type": "markdown",
      "metadata": {},
      "source": [
        "- Transform the input fearture 'Sex' from an object data type to int64 [ 5pts ]\n"
      ]
    },
    {
      "cell_type": "code",
      "execution_count": 4,
      "metadata": {},
      "outputs": [
        {
          "data": {
            "text/plain": [
              "PassengerId\n",
              "1      1\n",
              "2      0\n",
              "3      0\n",
              "4      0\n",
              "5      1\n",
              "      ..\n",
              "887    1\n",
              "888    0\n",
              "889    0\n",
              "890    1\n",
              "891    1\n",
              "Name: Sex, Length: 891, dtype: int64"
            ]
          },
          "execution_count": 4,
          "metadata": {},
          "output_type": "execute_result"
        }
      ],
      "source": [
        "from sklearn.preprocessing import LabelEncoder\n",
        "\n",
        "le = LabelEncoder()\n",
        "le.fit(titanic_df.Sex)\n",
        "titanic_df.Sex = le.transform(titanic_df.Sex)\n",
        "titanic_df.Sex"
      ]
    },
    {
      "cell_type": "markdown",
      "metadata": {},
      "source": [
        "- Remove all other Features with the object data type [5pts]\n"
      ]
    },
    {
      "cell_type": "code",
      "execution_count": 6,
      "metadata": {},
      "outputs": [
        {
          "name": "stdout",
          "output_type": "stream",
          "text": [
            "<class 'pandas.core.frame.DataFrame'>\n",
            "Index: 891 entries, 1 to 891\n",
            "Data columns (total 7 columns):\n",
            " #   Column    Non-Null Count  Dtype  \n",
            "---  ------    --------------  -----  \n",
            " 0   Survived  891 non-null    int64  \n",
            " 1   Pclass    891 non-null    int64  \n",
            " 2   Sex       891 non-null    int64  \n",
            " 3   Age       714 non-null    float64\n",
            " 4   SibSp     891 non-null    int64  \n",
            " 5   Parch     891 non-null    int64  \n",
            " 6   Fare      891 non-null    float64\n",
            "dtypes: float64(2), int64(5)\n",
            "memory usage: 55.7 KB\n"
          ]
        }
      ],
      "source": [
        "# Drop columns\n",
        "\n",
        "titanic_df = titanic_df.select_dtypes(exclude=\"object\")\n",
        "titanic_df.info()"
      ]
    },
    {
      "cell_type": "markdown",
      "metadata": {},
      "source": [
        "- Notice that some Features contain NULL elements, Remove all NAN from data set [5pts]\n"
      ]
    },
    {
      "cell_type": "code",
      "execution_count": 7,
      "metadata": {},
      "outputs": [
        {
          "name": "stdout",
          "output_type": "stream",
          "text": [
            "<class 'pandas.core.frame.DataFrame'>\n",
            "Index: 714 entries, 1 to 891\n",
            "Data columns (total 7 columns):\n",
            " #   Column    Non-Null Count  Dtype  \n",
            "---  ------    --------------  -----  \n",
            " 0   Survived  714 non-null    int64  \n",
            " 1   Pclass    714 non-null    int64  \n",
            " 2   Sex       714 non-null    int64  \n",
            " 3   Age       714 non-null    float64\n",
            " 4   SibSp     714 non-null    int64  \n",
            " 5   Parch     714 non-null    int64  \n",
            " 6   Fare      714 non-null    float64\n",
            "dtypes: float64(2), int64(5)\n",
            "memory usage: 44.6 KB\n"
          ]
        }
      ],
      "source": [
        "# Drop rows with missing values\n",
        "titanic_df.dropna(inplace=True)\n",
        "titanic_df.info()\n"
      ]
    },
    {
      "cell_type": "markdown",
      "metadata": {},
      "source": [
        "#### Your Final DataFrame should look something like the image below\n",
        "\n",
        "<img src=\"images/x_trained_df.png\" alt=\"drawing\" width=\"400\"/>\n"
      ]
    },
    {
      "cell_type": "markdown",
      "metadata": {},
      "source": [
        "### Task 2: Using the Correlation Matrix, Determine the Top 5 paramaters in order of significance for predicting Survival [10 pts]\n"
      ]
    },
    {
      "cell_type": "code",
      "execution_count": 8,
      "metadata": {},
      "outputs": [
        {
          "data": {
            "image/png": "[encoded data removed]",
            "text/plain": [
              "<Figure size 640x480 with 2 Axes>"
            ]
          },
          "metadata": {},
          "output_type": "display_data"
        },
        {
          "name": "stdout",
          "output_type": "stream",
          "text": [
            "The top 5 features to predict survavival are: ['Sex', 'Pclass', 'Fare', 'Parch', 'Age']\n"
          ]
        }
      ],
      "source": [
        "import numpy as np\n",
        "import seaborn as sn\n",
        "import matplotlib.pyplot as plt\n",
        "\n",
        "cov_matrix = pd.DataFrame.corr(titanic_df)\n",
        "sn.heatmap(cov_matrix, annot=True)\n",
        "plt.show()\n",
        "\n",
        "# To get the top 5 features, we will grab the largest magnitude covariance values\n",
        "top_features = cov_matrix.Survived.drop(labels=\"Survived\").abs().nlargest(5).index.tolist()\n",
        "print(f\"The top 5 features to predict survavival are: {top_features}\")"
      ]
    },
    {
      "cell_type": "markdown",
      "metadata": {},
      "source": [
        "### Task 3. Create a Test, and Validation Set\n",
        "\n",
        "Using a three-way Holdout Method with a random seed of 123 and 20% test size percentage\n",
        "creat a training, validation, and test set using the Top features from the feature correlation to predict output = \"Survived\"\n"
      ]
    },
    {
      "cell_type": "markdown",
      "metadata": {},
      "source": [
        "<img src=\"images/holdout-tuning.png\" alt=\"drawing\" width=\"400\"/>\n"
      ]
    },
    {
      "cell_type": "code",
      "execution_count": 10,
      "metadata": {
        "id": "Al_Uvv6Jd_Bj",
        "outputId": "bfcca184-3736-4bee-fb68-ac999e2722d7"
      },
      "outputs": [],
      "source": [
        "y = titanic_df[\"Survived\"]\n",
        "X = titanic_df[top_features]"
      ]
    },
    {
      "cell_type": "code",
      "execution_count": 11,
      "metadata": {},
      "outputs": [],
      "source": [
        "import numpy as np\n",
        "from sklearn.model_selection import train_test_split\n",
        "\n",
        "X_temp, X_test, y_temp, y_test = train_test_split(X, y, test_size=0.2, shuffle=True, random_state=123, stratify=y)\n",
        "X_train, X_valid, y_train, y_valid = train_test_split(X_temp, y_temp, test_size=0.2, shuffle=True, random_state=123, stratify=y_temp)"
      ]
    },
    {
      "cell_type": "markdown",
      "metadata": {
        "id": "z0_PfT0ud_CF"
      },
      "source": []
    },
    {
      "cell_type": "markdown",
      "metadata": {
        "id": "8ztcj9iid_CF"
      },
      "source": [
        "### Task 5: Using Logistic Regression, KNN, Stochastic Gradient Descent, determine models training and validation, accuracy and optimized hyperparams to best predict Survival Rate [ 60 pts ]\n"
      ]
    },
    {
      "cell_type": "markdown",
      "metadata": {},
      "source": [
        "#### Logistic Regression Model\n",
        "\n",
        "- Model Implementation [5 pts]\n",
        "- Training Accuracy [5pts]\n",
        "- Validation Accuracy [5pts]\n"
      ]
    },
    {
      "cell_type": "code",
      "execution_count": null,
      "metadata": {},
      "outputs": [
        {
          "name": "stdout",
          "output_type": "stream",
          "text": [
            "Train accuracy: 0.783, Validation accuracy: 0.800\n"
          ]
        }
      ],
      "source": [
        "# Logistic Regression\n",
        "from sklearn.linear_model import LogisticRegression\n",
        "from sklearn.preprocessing import StandardScaler\n",
        "from sklearn.pipeline import make_pipeline\n",
        "\n",
        "# Let's first use the default hyperparameters\n",
        "pipe_lr = make_pipeline(StandardScaler(), LogisticRegression())\n",
        "# Create a Logistic Regression model\n",
        "pipe_lr.fit(X_train, y_train)\n",
        "\n",
        "pipe_lr.predict(X_valid)\n",
        "\n",
        "# Let's evaluate the model\n",
        "train_accuracy = pipe_lr.score(X_train, y_train)\n",
        "valid_accuracy = pipe_lr.score(X_valid, y_valid)\n",
        "print(f\"Train accuracy: {train_accuracy:.3f}, Validation accuracy: {valid_accuracy:.3f}\")"
      ]
    },
    {
      "cell_type": "markdown",
      "metadata": {},
      "source": [
        "Let's do some hyperparameter tuning by performing a GridSearch over our regularization strength hyperparameter"
      ]
    },
    {
      "cell_type": "code",
      "execution_count": null,
      "metadata": {},
      "outputs": [
        {
          "name": "stdout",
          "output_type": "stream",
          "text": [
            "Best hyperparameters: {'logisticregression__C': 1, 'logisticregression__penalty': 'l2'}\n",
            "Best cross-validation accuracy: 0.778\n",
            "Test accuracy: 0.818\n",
            "Validation accuracy: 0.800\n"
          ]
        }
      ],
      "source": [
        "from sklearn.model_selection import GridSearchCV\n",
        "\n",
        "\n",
        "param_grid = {\n",
        "    \"logisticregression__C\": [0.0001, 0.001, 0.01, 0.1, 1, 10, 10000],\n",
        "    \"logisticregression__penalty\": [\"l2\"],\n",
        "}\n",
        "grid_lr = GridSearchCV(pipe_lr, param_grid, cv=5, scoring=\"accuracy\", n_jobs=-1, error_score=\"raise\")\n",
        "grid_lr.fit(X_train, y_train)\n",
        "\n",
        "# Evaluate the model\n",
        "train_accuracy_lr = grid_lr.score(X_train, y_train)\n",
        "valid_accuracy_lr = grid_lr.score(X_valid, y_valid)\n",
        "print(f\"Best hyperparameters: {grid_lr.best_params_}\")\n",
        "print(f\"Best cross-validation accuracy: {grid_lr.best_score_:.3f}\")\n",
        "print(f\"Test accuracy: {grid_lr.score(X_test, y_test):.3f}\")\n",
        "print(f\"Validation accuracy: {valid_accuracy_lr:.3f}\")"
      ]
    },
    {
      "cell_type": "code",
      "execution_count": 70,
      "metadata": {},
      "outputs": [],
      "source": [
        "# Let's save our best logistic regression model and results in a list for later\n",
        "lr_model_info = [\"Logistic Regression\", grid_lr.best_estimator_, train_accuracy_lr, valid_accuracy_lr, grid_lr.score(X_test, y_test)]\n"
      ]
    },
    {
      "cell_type": "markdown",
      "metadata": {},
      "source": [
        "#### KNeighborsClassifier Model\n",
        "\n",
        "n_neighbors = [ 1, 3, 5, 7, 9, 11, 13, 15, 17, 19, 21, 23, 25]\n",
        "\n",
        "- Model Implementation [5 pts]\n",
        "- Training Accuracy [5pts]\n",
        "- Validation Accuracy [5pts]\n",
        "- Optimal N_neighbors [5pts]\n",
        "- Describe the relationship between training and validation accuracy [5pts]\n"
      ]
    },
    {
      "cell_type": "code",
      "execution_count": 71,
      "metadata": {},
      "outputs": [
        {
          "name": "stdout",
          "output_type": "stream",
          "text": [
            "Best hyperparameters for KNN: {'kneighborsclassifier__n_neighbors': 11}\n",
            "Best cross-validation accuracy for KNN: 0.789\n",
            "Test accuracy for KNN: 0.818\n",
            "Validation accuracy for KNN: 0.800\n"
          ]
        }
      ],
      "source": [
        "from sklearn.neighbors import KNeighborsClassifier\n",
        "\n",
        "knn_models = []\n",
        "acc_knn = []\n",
        "\n",
        "# Recall from our previous instructions to use odd n_neighbors for binary classification\n",
        "n_neighbors = [1, 3, 5, 7, 9, 11, 13, 15, 17, 19, 21, 23, 2]\n",
        "\n",
        "param_grid = {\n",
        "    \"kneighborsclassifier__n_neighbors\": n_neighbors,\n",
        "}\n",
        "\n",
        "grid_knn = GridSearchCV(make_pipeline(StandardScaler(), KNeighborsClassifier()), param_grid, cv=5, scoring=\"accuracy\", n_jobs=-1)\n",
        "grid_knn.fit(X_train, y_train)\n",
        "\n",
        "# Evaluate the model\n",
        "train_accuracy_knn = grid_knn.score(X_train, y_train)\n",
        "valid_accuracy_knn = grid_knn.score(X_valid, y_valid)\n",
        "print(f\"Best hyperparameters for KNN: {grid_knn.best_params_}\")\n",
        "print(f\"Best cross-validation accuracy for KNN: {grid_knn.best_score_:.3f}\")\n",
        "print(f\"Test accuracy for KNN: {grid_knn.score(X_test, y_test):.3f}\")\n",
        "print(f\"Validation accuracy for KNN: {valid_accuracy_knn:.3f}\")\n",
        "\n",
        "# Saving our best KNN model\n",
        "knn_model_info = [\"KNN\", grid_knn.best_estimator_, train_accuracy_knn, valid_accuracy_knn, grid_knn.score(X_test, y_test)]"
      ]
    },
    {
      "cell_type": "markdown",
      "metadata": {},
      "source": [
        "### Stochastic Gradient Descent\n",
        "\n",
        "- Model Implementation [10 pts]\n",
        "- Training Accuracy [5pts]\n",
        "- Validation Accuracy [5pts]\n"
      ]
    },
    {
      "cell_type": "code",
      "execution_count": 72,
      "metadata": {},
      "outputs": [
        {
          "name": "stdout",
          "output_type": "stream",
          "text": [
            "Best hyperparameters for SGD: {'sgdclassifier__alpha': 0.01, 'sgdclassifier__loss': 'squared_hinge', 'sgdclassifier__penalty': 'elasticnet'}\n",
            "Best cross-validation accuracy for SGD: 0.785\n",
            "Test accuracy for SGD: 0.825\n",
            "Validation accuracy for SGD: 0.783\n"
          ]
        }
      ],
      "source": [
        "# Stochastic Gradient Descent\n",
        "from sklearn.linear_model import SGDClassifier\n",
        "\n",
        "# Create a Stochastic Gradient Descent model\n",
        "pipe_sgd = make_pipeline(StandardScaler(), SGDClassifier(max_iter=1000, tol=1e-3))\n",
        "pipe_sgd.fit(X_train, y_train)\n",
        "grid_sgd = GridSearchCV(\n",
        "    pipe_sgd,\n",
        "    param_grid={\n",
        "        \"sgdclassifier__loss\": [\"hinge\", \"log_loss\", \"squared_hinge\"],\n",
        "        \"sgdclassifier__penalty\": [\"l2\", \"l1\", \"elasticnet\"],\n",
        "        \"sgdclassifier__alpha\": [0.0001, 0.001, 0.01, 0.1, 1, 10, 10000],\n",
        "    },\n",
        "    cv=5,\n",
        "    scoring=\"accuracy\",\n",
        "    n_jobs=-1,\n",
        ")\n",
        "grid_sgd.fit(X_train, y_train)\n",
        "\n",
        "# Evaluate the model\n",
        "train_accuracy_sgd = grid_sgd.score(X_train, y_train)\n",
        "valid_accuracy_sgd = grid_sgd.score(X_valid, y_valid)\n",
        "print(f\"Best hyperparameters for SGD: {grid_sgd.best_params_}\")\n",
        "print(f\"Best cross-validation accuracy for SGD: {grid_sgd.best_score_:.3f}\")\n",
        "print(f\"Test accuracy for SGD: {grid_sgd.score(X_test, y_test):.3f}\")\n",
        "print(f\"Validation accuracy for SGD: {valid_accuracy_sgd:.3f}\")\n",
        "\n",
        "# Saving our best SGD model\n",
        "sgd_model_info = [\"SGD\", grid_sgd.best_estimator_, train_accuracy_sgd, valid_accuracy_sgd, grid_sgd.score(X_test, y_test)]"
      ]
    },
    {
      "cell_type": "markdown",
      "metadata": {
        "id": "10N-8k_Zd_CO"
      },
      "source": [
        "### Task 6: Choose the best Model and evaulate its performance on the test data set [ 15 pts ]\n",
        "\n",
        "- Best Model [5 pts]\n",
        "- Test Accuracy [5 pts]\n",
        "- How does the Test accuracy differ from the validation accuracy? [5 pts]\n"
      ]
    },
    {
      "cell_type": "code",
      "execution_count": null,
      "metadata": {
        "id": "yRww9ZGPd_CP",
        "outputId": "ead0e7bc-d499-486a-f6a4-b716fb5c0422"
      },
      "outputs": [
        {
          "data": {
            "text/html": [
              "<div>\n",
              "<style scoped>\n",
              "    .dataframe tbody tr th:only-of-type {\n",
              "        vertical-align: middle;\n",
              "    }\n",
              "\n",
              "    .dataframe tbody tr th {\n",
              "        vertical-align: top;\n",
              "    }\n",
              "\n",
              "    .dataframe thead th {\n",
              "        text-align: right;\n",
              "    }\n",
              "</style>\n",
              "<table border=\"1\" class=\"dataframe\">\n",
              "  <thead>\n",
              "    <tr style=\"text-align: right;\">\n",
              "      <th></th>\n",
              "      <th>Model</th>\n",
              "      <th>Best Estimator</th>\n",
              "      <th>Train Accuracy</th>\n",
              "      <th>Validation Accuracy</th>\n",
              "      <th>Test Accuracy</th>\n",
              "    </tr>\n",
              "  </thead>\n",
              "  <tbody>\n",
              "    <tr>\n",
              "      <th>0</th>\n",
              "      <td>Logistic Regression</td>\n",
              "      <td>(StandardScaler(), LogisticRegression(C=1, max...</td>\n",
              "      <td>0.782895</td>\n",
              "      <td>0.800000</td>\n",
              "      <td>0.818182</td>\n",
              "    </tr>\n",
              "    <tr>\n",
              "      <th>1</th>\n",
              "      <td>KNN</td>\n",
              "      <td>(StandardScaler(), KNeighborsClassifier(n_neig...</td>\n",
              "      <td>0.817982</td>\n",
              "      <td>0.800000</td>\n",
              "      <td>0.818182</td>\n",
              "    </tr>\n",
              "    <tr>\n",
              "      <th>2</th>\n",
              "      <td>SGD</td>\n",
              "      <td>(StandardScaler(), SGDClassifier(alpha=0.01, l...</td>\n",
              "      <td>0.785088</td>\n",
              "      <td>0.782609</td>\n",
              "      <td>0.825175</td>\n",
              "    </tr>\n",
              "  </tbody>\n",
              "</table>\n",
              "</div>"
            ],
            "text/plain": [
              "                 Model                                     Best Estimator  \\\n",
              "0  Logistic Regression  (StandardScaler(), LogisticRegression(C=1, max...   \n",
              "1                  KNN  (StandardScaler(), KNeighborsClassifier(n_neig...   \n",
              "2                  SGD  (StandardScaler(), SGDClassifier(alpha=0.01, l...   \n",
              "\n",
              "   Train Accuracy  Validation Accuracy  Test Accuracy  \n",
              "0        0.782895             0.800000       0.818182  \n",
              "1        0.817982             0.800000       0.818182  \n",
              "2        0.785088             0.782609       0.825175  "
            ]
          },
          "execution_count": 78,
          "metadata": {},
          "output_type": "execute_result"
        }
      ],
      "source": [
        "# Putting all model information into a list\n",
        "model_info = [lr_model_info, knn_model_info, sgd_model_info]\n",
        "# Creating a DataFrame to summarize the model performance\n",
        "model_performance_df = pd.DataFrame(model_info, columns=[\"Model\", \"Best Estimator\", \"Train Accuracy\", \"Validation Accuracy\", \"Test Accuracy\"])\n",
        "model_performance_df\n"
      ]
    },
    {
      "cell_type": "markdown",
      "metadata": {},
      "source": [
        "Test accuracy differs from validation accuracy in that test accuracy is the correct proportion of predictions on an unseen dataset - that is the test dataset was not used in model fitting or hyperparameter tuning and cross-validation. The validation dataset is a holdout subset of the training data, which is not used in fitting but IS used in hyperparameter tuning.\n",
        "\n",
        "From our model summaries above, we see that Logistic Regression and KNN both share the highest validation accuracy of 0.8.\n",
        "\n",
        "KNN has a larger train accuracy than validation accuracy, which means that it may have a slight problem with overfitting.\n",
        "\n",
        "SGD showed the highest test accuracy at 0.825175. SGD also had the smallest difference between training and validation accuracies.\n",
        "\n",
        "We will select SGD as our model of choice."
      ]
    },
    {
      "cell_type": "code",
      "execution_count": 97,
      "metadata": {},
      "outputs": [
        {
          "data": {
            "text/html": [
              "<div>\n",
              "<style scoped>\n",
              "    .dataframe tbody tr th:only-of-type {\n",
              "        vertical-align: middle;\n",
              "    }\n",
              "\n",
              "    .dataframe tbody tr th {\n",
              "        vertical-align: top;\n",
              "    }\n",
              "\n",
              "    .dataframe thead th {\n",
              "        text-align: right;\n",
              "    }\n",
              "</style>\n",
              "<table border=\"1\" class=\"dataframe\">\n",
              "  <thead>\n",
              "    <tr style=\"text-align: right;\">\n",
              "      <th></th>\n",
              "      <th>PassengerId</th>\n",
              "      <th>Survived</th>\n",
              "    </tr>\n",
              "  </thead>\n",
              "  <tbody>\n",
              "    <tr>\n",
              "      <th>0</th>\n",
              "      <td>892</td>\n",
              "      <td>0</td>\n",
              "    </tr>\n",
              "    <tr>\n",
              "      <th>1</th>\n",
              "      <td>893</td>\n",
              "      <td>0</td>\n",
              "    </tr>\n",
              "    <tr>\n",
              "      <th>2</th>\n",
              "      <td>894</td>\n",
              "      <td>0</td>\n",
              "    </tr>\n",
              "    <tr>\n",
              "      <th>3</th>\n",
              "      <td>895</td>\n",
              "      <td>0</td>\n",
              "    </tr>\n",
              "    <tr>\n",
              "      <th>4</th>\n",
              "      <td>896</td>\n",
              "      <td>1</td>\n",
              "    </tr>\n",
              "  </tbody>\n",
              "</table>\n",
              "</div>"
            ],
            "text/plain": [
              "   PassengerId  Survived\n",
              "0          892         0\n",
              "1          893         0\n",
              "2          894         0\n",
              "3          895         0\n",
              "4          896         1"
            ]
          },
          "execution_count": 97,
          "metadata": {},
          "output_type": "execute_result"
        }
      ],
      "source": [
        "# Reading the test.csv\n",
        "titanic_test_df = pd.read_csv(\"datasets/test.csv\", index_col=\"PassengerId\")\n",
        "\n",
        "# Preprocessing the test data like we did for the training data\n",
        "le.fit(titanic_test_df.Sex)\n",
        "titanic_test_df.Sex = le.transform(titanic_test_df.Sex)\n",
        "titanic_test_df.Sex\n",
        "titanic_test_df = titanic_test_df.select_dtypes(exclude=\"object\")\n",
        "titanic_test_df.dropna(inplace=True)\n",
        "# Encode Sex column\n",
        "\n",
        "X = titanic_test_df[top_features]\n",
        "\n",
        "\n",
        "# Predict\n",
        "sgd_model = model_performance_df[model_performance_df[\"Model\"] == \"SGD\"][\"Best Estimator\"].values[0]\n",
        "\n",
        "predictions = sgd_model.predict(X)\n",
        "\n",
        "# Let's store the predictions in a DataFrame\n",
        "predictions_df = pd.DataFrame({\"PassengerId\": titanic_test_df.index, \"Survived\": predictions})\n",
        "\n",
        "predictions_df.head()"
      ]
    }
  ],
  "metadata": {
    "colab": {
      "provenance": []
    },
    "kernelspec": {
      "display_name": "pyml",
      "language": "python",
      "name": "python3"
    },
    "language_info": {
      "codemirror_mode": {
        "name": "ipython",
        "version": 3
      },
      "file_extension": ".py",
      "mimetype": "text/x-python",
      "name": "python",
      "nbconvert_exporter": "python",
      "pygments_lexer": "ipython3",
      "version": "3.13.2"
    },
    "nav_menu": {
      "height": "279px",
      "width": "309px"
    },
    "toc": {
      "nav_menu": {},
      "number_sections": true,
      "sideBar": true,
      "skip_h1_title": false,
      "toc_cell": false,
      "toc_position": {},
      "toc_section_display": "block",
      "toc_window_display": false
    }
  },
  "nbformat": 4,
  "nbformat_minor": 0
}
