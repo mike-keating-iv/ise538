{
  "cells": [
    {
      "cell_type": "markdown",
      "metadata": {
        "id": "CQgbjDLFd_BZ"
      },
      "source": [
        "EM 589: Practical Machine Learning for Enginnering Analytics (Spring 2025)  \n",
        "Instructor: Fred Livingston (fjliving@ncsu.edu)"
      ]
    },
    {
      "cell_type": "markdown",
      "metadata": {
        "id": "b3Khb1cFd_Bd"
      },
      "source": [
        "# Homework 002: Using Supervised Learning to Titanic shipwreck survivors"
      ]
    },
    {
      "cell_type": "markdown",
      "metadata": {
        "id": "tzm3MsIsd_Bi"
      },
      "source": [
        "This is the legendary Titanic ML competition.\n",
        "Use a machine learning to create a supervised learning classifier model that predicts which passengers survived the Titanic shipwreck.\n"
      ]
    },
    {
      "cell_type": "markdown",
      "metadata": {
        "id": "WAaRrq6ud_Bi"
      },
      "source": [
        "## Prepare the Data for Machine Learning Algorithms"
      ]
    },
    {
      "cell_type": "code",
      "execution_count": null,
      "metadata": {
        "id": "VtGHl3s0d_Bi"
      },
      "outputs": [],
      "source": [
        "import pandas as pd\n",
        "titanic_df = pd.read_csv('datasets/train.csv',index_col='PassengerId')"
      ]
    },
    {
      "cell_type": "markdown",
      "metadata": {
        "id": "jaJTasgzd_Bi"
      },
      "source": [
        "### Take a Quick Look at the Data Structure"
      ]
    },
    {
      "cell_type": "code",
      "execution_count": null,
      "metadata": {
        "id": "eaIVVP-cd_Bj",
        "outputId": "9d000918-f740-430a-9bd5-69a4f6326657"
      },
      "outputs": [],
      "source": [
        "titanic_df.head()"
      ]
    },
    {
      "cell_type": "code",
      "execution_count": null,
      "metadata": {},
      "outputs": [],
      "source": [
        "titanic_df.info()"
      ]
    },
    {
      "cell_type": "markdown",
      "metadata": {},
      "source": [
        "### Task 1: Data Wrangling Cleaning [ 15pts ]"
      ]
    },
    {
      "cell_type": "markdown",
      "metadata": {},
      "source": [
        "- Transform the input fearture 'Sex' from an object data type to int64 [ 5pts ]"
      ]
    },
    {
      "cell_type": "code",
      "execution_count": null,
      "metadata": {},
      "outputs": [],
      "source": [
        "from sklearn.preprocessing import LabelEncoder\n",
        "le = LabelEncoder()\n",
        "# TODO: Encode"
      ]
    },
    {
      "cell_type": "markdown",
      "metadata": {},
      "source": [
        "- Remove all other Features with the object data type [5pts]"
      ]
    },
    {
      "cell_type": "code",
      "execution_count": null,
      "metadata": {},
      "outputs": [],
      "source": [
        "# TODO: Drop columns"
      ]
    },
    {
      "cell_type": "markdown",
      "metadata": {},
      "source": [
        "- Notice that some Features contain NULL elements, Remove all NAN from data set [5pts]"
      ]
    },
    {
      "cell_type": "code",
      "execution_count": null,
      "metadata": {},
      "outputs": [],
      "source": [
        "# TODO: Drop rows with missing values\n"
      ]
    },
    {
      "cell_type": "markdown",
      "metadata": {},
      "source": [
        "#### Your Final DataFrame should look something like the image below\n",
        "<img src=\"images/x_trained_df.png\" alt=\"drawing\" width=\"400\"/>"
      ]
    },
    {
      "cell_type": "markdown",
      "metadata": {},
      "source": [
        "### Task 2: Using the Correlation Matrix, Determine the Top 5 paramaters in order of significance for predicting Survival [10 pts]"
      ]
    },
    {
      "cell_type": "code",
      "execution_count": null,
      "metadata": {},
      "outputs": [],
      "source": [
        "import numpy as np\n",
        "import seaborn as sn\n",
        "import matplotlib.pyplot as plt\n",
        "\n",
        "cov_matrix = pd.DataFrame.corr(titanic_df)\n",
        "sn.heatmap(cov_matrix, annot=True)\n",
        "plt.show()\n"
      ]
    },
    {
      "cell_type": "markdown",
      "metadata": {},
      "source": [
        "### Task 3. Create a Test, and Validation Set\n",
        "Using a three-way Holdout Method with a random seed of 123 and 20% test size percentage\n",
        "creat a training, validation, and test set using the Top features from the feature correlation to predict output = \"Survived\""
      ]
    },
    {
      "cell_type": "markdown",
      "metadata": {},
      "source": [
        "<img src=\"images/holdout-tuning.png\" alt=\"drawing\" width=\"400\"/>"
      ]
    },
    {
      "cell_type": "code",
      "execution_count": null,
      "metadata": {
        "id": "Al_Uvv6Jd_Bj",
        "outputId": "bfcca184-3736-4bee-fb68-ac999e2722d7"
      },
      "outputs": [],
      "source": [
        "y = titanic_df[\"Survived\"]\n",
        "X = titanic_df[[\"Sex\", \"Pclass\", \"Fare\", \"Parch\", \"Age\", \"SibSp\"]]\n"
      ]
    },
    {
      "cell_type": "code",
      "execution_count": null,
      "metadata": {},
      "outputs": [],
      "source": [
        "import numpy as np\n",
        "from sklearn.model_selection import train_test_split\n",
        "\n",
        "X_temp, X_test, y_temp, y_test = \\\n",
        "        train_test_split(X, y, test_size=0.2, \n",
        "                         shuffle=True, random_state=123, stratify=y)\n",
        "X_train, X_valid, y_train, y_valid = \\\n",
        "        train_test_split(X_temp, y_temp, test_size=0.2,\n",
        "                         shuffle=True, random_state=123, stratify=y_temp)"
      ]
    },
    {
      "cell_type": "markdown",
      "metadata": {
        "id": "z0_PfT0ud_CF"
      },
      "source": []
    },
    {
      "cell_type": "markdown",
      "metadata": {
        "id": "8ztcj9iid_CF"
      },
      "source": [
        "### Task 5: Using Logistic Regression, KNN, Stochastic Gradient Descent, determine models training and validation, accuracy and optimized hyperparams to best predict Survival Rate [ 60 pts ]\n"
      ]
    },
    {
      "cell_type": "markdown",
      "metadata": {},
      "source": [
        "#### Logistic Regression Model\n",
        "- Model Implementation [5 pts]\n",
        "- Training Accuracy [5pts]\n",
        "- Validation Accuracy [5pts]"
      ]
    },
    {
      "cell_type": "code",
      "execution_count": null,
      "metadata": {},
      "outputs": [],
      "source": [
        "# Logistic Regression\n",
        "from sklearn.linear_model import LogisticRegression\n",
        "# TODO: Create a Logistic Regression model\n"
      ]
    },
    {
      "cell_type": "markdown",
      "metadata": {},
      "source": [
        "#### KNeighborsClassifier Model\n",
        "n_neighbors = [ 1, 3, 5, 7, 9, 11, 13, 15, 17, 19, 21, 23, 25]\n",
        "- Model Implementation [5 pts]\n",
        "- Training Accuracy [5pts]\n",
        "- Validation Accuracy [5pts]\n",
        "- Optimal N_neighbors [5pts]\n",
        "- Describe the relationship between training and validation accuracy [5pts]"
      ]
    },
    {
      "cell_type": "code",
      "execution_count": null,
      "metadata": {},
      "outputs": [],
      "source": [
        "from sklearn.neighbors import KNeighborsClassifier\n",
        "knn_models = []\n",
        "acc_knn = []\n",
        "n_neighbors = [ 1, 3, 5, 7, 9, 11, 13, 15, 17, 19, 21, 23, 25]\n",
        "\n",
        "# TODO: Create a KNN model\n"
      ]
    },
    {
      "cell_type": "markdown",
      "metadata": {},
      "source": [
        "### Stochastic Gradient Descent\n",
        "- Model Implementation [10 pts]\n",
        "- Training Accuracy [5pts]\n",
        "- Validation Accuracy [5pts]"
      ]
    },
    {
      "cell_type": "code",
      "execution_count": null,
      "metadata": {},
      "outputs": [],
      "source": [
        "# Stochastic Gradient Descent\n",
        "from sklearn.linear_model import SGDClassifier\n",
        "\n",
        "# TODO: Create a Stochastic Gradient Descent model\n"
      ]
    },
    {
      "cell_type": "markdown",
      "metadata": {
        "id": "10N-8k_Zd_CO"
      },
      "source": [
        "### Task 6: Choose the best Model and evaulate its performance on the test data set [ 15 pts ]\n",
        "- Best Model [5 pts]\n",
        "- Test Accuracy [5 pts]\n",
        "- How does the Test accuracy differ from the validation accuracy? [5 pts]"
      ]
    },
    {
      "cell_type": "code",
      "execution_count": null,
      "metadata": {
        "id": "yRww9ZGPd_CP",
        "outputId": "ead0e7bc-d499-486a-f6a4-b716fb5c0422"
      },
      "outputs": [],
      "source": [
        "# TODO: Fit the models"
      ]
    }
  ],
  "metadata": {
    "colab": {
      "provenance": []
    },
    "kernelspec": {
      "display_name": "pyml",
      "language": "python",
      "name": "python3"
    },
    "language_info": {
      "codemirror_mode": {
        "name": "ipython",
        "version": 3
      },
      "file_extension": ".py",
      "mimetype": "text/x-python",
      "name": "python",
      "nbconvert_exporter": "python",
      "pygments_lexer": "ipython3",
      "version": "3.11.9"
    },
    "nav_menu": {
      "height": "279px",
      "width": "309px"
    },
    "toc": {
      "nav_menu": {},
      "number_sections": true,
      "sideBar": true,
      "skip_h1_title": false,
      "toc_cell": false,
      "toc_position": {},
      "toc_section_display": "block",
      "toc_window_display": false
    }
  },
  "nbformat": 4,
  "nbformat_minor": 0
}
